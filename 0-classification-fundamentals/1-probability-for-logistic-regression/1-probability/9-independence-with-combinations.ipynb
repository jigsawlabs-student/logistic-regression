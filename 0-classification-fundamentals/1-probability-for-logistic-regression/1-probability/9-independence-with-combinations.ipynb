{
 "cells": [
  {
   "cell_type": "markdown",
   "metadata": {},
   "source": [
    "# Onto the Binomial"
   ]
  },
  {
   "cell_type": "markdown",
   "metadata": {},
   "source": [
    "### Different Combinations"
   ]
  },
  {
   "cell_type": "markdown",
   "metadata": {},
   "source": [
    "Now above we saw how to calculate the probability of a particular sequence of binary independent events occurring. Now this can be difficult, because we have to add up the probability of each that each different sequence occurs.  \n",
    "\n",
    "So for example, if we want to find the probability that a player makes five out of six shots in any sequence, we would add up the probability that the missed shot is the first one, the second one, and so on.  Because the probability of each sequence is the same: $ .7^5(1 - .7)^{6 - 5}$, and there are six ways this can occur, the probability of any sequence is:"
   ]
  },
  {
   "cell_type": "markdown",
   "metadata": {},
   "source": [
    "$P(F) = 6(.7^5)(1−.7)^{6−5}$"
   ]
  },
  {
   "cell_type": "markdown",
   "metadata": {},
   "source": [
    "We can see that finding the probability of a *particular* just follows from the previous section, but finding the combination of ways this sequence can occur, can be tricky.  Luckily we can use scipy to calculate this for us."
   ]
  },
  {
   "cell_type": "markdown",
   "metadata": {},
   "source": [
    "For example, below we calculate the combination of ways that of 6 attempts, a player makes five shots."
   ]
  },
  {
   "cell_type": "code",
   "execution_count": 4,
   "metadata": {},
   "outputs": [
    {
     "data": {
      "text/plain": [
       "6.0"
      ]
     },
     "execution_count": 4,
     "metadata": {},
     "output_type": "execute_result"
    }
   ],
   "source": [
    "from scipy.special import comb\n",
    "comb(6, 1)"
   ]
  },
  {
   "cell_type": "markdown",
   "metadata": {},
   "source": [
    "Now we can denote the combination of different ways the event can occur as:"
   ]
  },
  {
   "cell_type": "markdown",
   "metadata": {},
   "source": [
    "$P(E) = {n \\choose k} (p^k)(1−p)^{n−k}$"
   ]
  },
  {
   "cell_type": "markdown",
   "metadata": {},
   "source": [
    "Let's see one more example.  Let's say that our basketball player's probability of making a shot is  $p = .8$, and he takes 10 shots and makes 8.  Then plugging the above information into our formula we get:"
   ]
  },
  {
   "cell_type": "code",
   "execution_count": 10,
   "metadata": {},
   "outputs": [
    {
     "data": {
      "text/plain": [
       "0.30198988800000004"
      ]
     },
     "execution_count": 10,
     "metadata": {},
     "output_type": "execute_result"
    }
   ],
   "source": [
    "p = .8\n",
    "n = 10\n",
    "k = 8\n",
    "\n",
    "comb(n, k)*(p**k)*(1 - p)**(n - k)"
   ]
  },
  {
   "cell_type": "markdown",
   "metadata": {},
   "source": [
    "### Resources"
   ]
  },
  {
   "cell_type": "markdown",
   "metadata": {},
   "source": [
    "[Working with Binomial](https://docs.scipy.org/doc/scipy/reference/generated/scipy.stats.binom.html)"
   ]
  }
 ],
 "metadata": {
  "kernelspec": {
   "display_name": "Python 3",
   "language": "python",
   "name": "python3"
  },
  "language_info": {
   "codemirror_mode": {
    "name": "ipython",
    "version": 3
   },
   "file_extension": ".py",
   "mimetype": "text/x-python",
   "name": "python",
   "nbconvert_exporter": "python",
   "pygments_lexer": "ipython3",
   "version": "3.7.4"
  }
 },
 "nbformat": 4,
 "nbformat_minor": 4
}
