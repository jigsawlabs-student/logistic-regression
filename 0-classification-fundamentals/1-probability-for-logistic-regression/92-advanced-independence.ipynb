{
 "cells": [
  {
   "cell_type": "markdown",
   "metadata": {},
   "source": [
    "### Independence when Conditioned"
   ]
  },
  {
   "cell_type": "markdown",
   "metadata": {},
   "source": [
    "If E and F are independent.  This does not tell us if EF conditioned on G are independent.\n",
    "\n",
    "* P(EF|G) = P(E|G)P(F|G)"
   ]
  },
  {
   "cell_type": "markdown",
   "metadata": {},
   "source": [
    "For example, if we roll two dice, and we \n",
    "\n",
    "* let E be $D_1 = 1$\n",
    "* let F be $D_2 = 6$\n",
    "* let G be $D_1 + D_2 = 7$"
   ]
  },
  {
   "cell_type": "markdown",
   "metadata": {},
   "source": [
    "Can see that $P(E|G) = \\frac{1}{6}$, $P(F|G) = \\frac{1}{6}$, $P(EF|G) = \\frac{1}{6}$ "
   ]
  },
  {
   "cell_type": "markdown",
   "metadata": {},
   "source": [
    "### Review"
   ]
  },
  {
   "cell_type": "markdown",
   "metadata": {},
   "source": [
    "When we add and when we multiply:"
   ]
  },
  {
   "cell_type": "markdown",
   "metadata": {},
   "source": [
    "* P(AB), Prob of A and B\n",
    "1. Generally: P(AB) = P(A)P(B|A)\n",
    "2. Independent P(AB) = P(A)P(B)"
   ]
  },
  {
   "cell_type": "markdown",
   "metadata": {},
   "source": [
    "* Prob of A or B $P(A \\cup B)$\n",
    "\n",
    "1. Generally: $P(A) + P(B) - P(A \\cap B)$\n",
    "2. Mutually exclusive: P(A) + P(B)"
   ]
  },
  {
   "cell_type": "markdown",
   "metadata": {},
   "source": [
    "Now compare: \n",
    "    \n",
    "* $P(AB)$ vs $P(A|B)$\n",
    "* With $P(AB)$, B has not yet happened, and we want to know P of both occurring\n",
    "* With $P(A|B)$, B has already occurred \n",
    "\n",
    "And $P(AB) = P(A|B)*P(B)$"
   ]
  }
 ],
 "metadata": {
  "kernelspec": {
   "display_name": "Python 3",
   "language": "python",
   "name": "python3"
  },
  "language_info": {
   "codemirror_mode": {
    "name": "ipython",
    "version": 3
   },
   "file_extension": ".py",
   "mimetype": "text/x-python",
   "name": "python",
   "nbconvert_exporter": "python",
   "pygments_lexer": "ipython3",
   "version": "3.7.4"
  }
 },
 "nbformat": 4,
 "nbformat_minor": 4
}
