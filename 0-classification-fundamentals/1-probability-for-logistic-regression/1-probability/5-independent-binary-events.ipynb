{
 "cells": [
  {
   "cell_type": "markdown",
   "metadata": {},
   "source": [
    "## Independent Binary events"
   ]
  },
  {
   "cell_type": "markdown",
   "metadata": {},
   "source": [
    "### Introduction"
   ]
  },
  {
   "cell_type": "markdown",
   "metadata": {},
   "source": [
    "### Binary Events"
   ]
  },
  {
   "cell_type": "markdown",
   "metadata": {},
   "source": [
    "Now binary events are simply those where we our sample space of size 2.  And as we know, independent events are those events where $P(AB) = P(A)*P(B)$, or more intuitively, where the outcome of the first event does not change probability of the second event."
   ]
  },
  {
   "cell_type": "markdown",
   "metadata": {},
   "source": [
    "1. Calculating a streak"
   ]
  },
  {
   "cell_type": "markdown",
   "metadata": {},
   "source": [
    "Let's say that the foul shots a basketball player makes are independent, and $P(X = 1) = .7$ (where $X = 1$ represents a shot being made).\n",
    "\n",
    "What is the probability of the event E, where E is the player making 6 shots in a row, followed by a miss?\n",
    "\n",
    "Because we are told that each event is independent, we can calculate that: $P(E) = .7*.7*.7*.7*.7*.7 = .7^6$"
   ]
  },
  {
   "cell_type": "markdown",
   "metadata": {},
   "source": [
    "And more generally, if we are asked to calculate the probability of the same independent outcome occurring, we can calculate this as:"
   ]
  },
  {
   "cell_type": "markdown",
   "metadata": {},
   "source": [
    "$P(E) = p^k$"
   ]
  },
  {
   "cell_type": "markdown",
   "metadata": {},
   "source": [
    "> Where $p$ is the probability that a single outcome occurs, and $n$ is the number of times this outcome occurs."
   ]
  },
  {
   "cell_type": "markdown",
   "metadata": {},
   "source": [
    "2. Calculating both outcomes"
   ]
  },
  {
   "cell_type": "markdown",
   "metadata": {},
   "source": [
    "Now let's say that we want to calculate the probability that the basketball player makes five shots followed by a miss.  Then this is:"
   ]
  },
  {
   "cell_type": "markdown",
   "metadata": {},
   "source": [
    "$P(E)  = .7*.7*.7*.7*.7*.3$"
   ]
  },
  {
   "cell_type": "markdown",
   "metadata": {},
   "source": [
    "So notice that a way to rewrite the calculation more generally is that the probability of a sequence of binary independent events occurring is:"
   ]
  },
  {
   "cell_type": "markdown",
   "metadata": {},
   "source": [
    "$P(E) = p^k*(1 - p)^{n - k}$, \n",
    "\n",
    "> where k is the number of times the positive event occurs, and n is the number of trials."
   ]
  },
  {
   "cell_type": "markdown",
   "metadata": {},
   "source": [
    "So applied to the above example, this gives us:"
   ]
  },
  {
   "cell_type": "markdown",
   "metadata": {},
   "source": [
    "$P(E) = .7^5(1 - .7)^{6 - 5}$"
   ]
  },
  {
   "cell_type": "markdown",
   "metadata": {},
   "source": [
    "> Note that this is the probability of this particular sequence of five makes followed by a miss.  If we wanted any combination of 5 makes followed by a miss, we would have to add the probabilities of each sequence."
   ]
  },
  {
   "cell_type": "markdown",
   "metadata": {},
   "source": [
    "### Calculating a Streak"
   ]
  },
  {
   "cell_type": "markdown",
   "metadata": {},
   "source": [
    "Now we can start to see above that lots of times, we want to calculate the probability not that a particular sequence of makes and misses occurs, but that out of n trials there are k successes in general.\n",
    "\n",
    "Such a problem can be a little tricky because we need to find all of the ways the sequence of events can occur.  When we can, we'd like to avoid that.  And there are certain types of questions where we can in fact avoid that.  These are the \"at least\" questions.  \n",
    "\n",
    "Let's see this by way of example.  \n",
    "> Let's say we are asked to calculate the probability that a basketball player makes  the probability he makes a shot is $.6$.  Our player is about to take 10 foul shots and we are asked to calculate the probability he makes at least 1 shot.  "
   ]
  },
  {
   "cell_type": "markdown",
   "metadata": {},
   "source": [
    "This can at first seem really difficult if we try to answer it by finding the probability he makes one shot, plus the probability he makes two shots and so on.  But one thing that makes this easier is instead to realize that we can calculate this as:"
   ]
  },
  {
   "cell_type": "markdown",
   "metadata": {},
   "source": [
    "$P(F) = 1 - P(\\text{misses all})$"
   ]
  },
  {
   "cell_type": "markdown",
   "metadata": {},
   "source": [
    "Because there is only one way that he can miss all the shots, we can calculate the probability of missing all shots as $.6^{10}$.  And then the probability of making at least 1 shot is: "
   ]
  },
  {
   "cell_type": "markdown",
   "metadata": {},
   "source": [
    "$P(F) = 1 - P(\\text{misses all}) = 1 - .6^{10} =  0.9939533824 $"
   ]
  },
  {
   "cell_type": "markdown",
   "metadata": {},
   "source": [
    "### Summary"
   ]
  },
  {
   "cell_type": "markdown",
   "metadata": {},
   "source": [
    "### Resources\n",
    "\n"
   ]
  },
  {
   "cell_type": "code",
   "execution_count": null,
   "metadata": {},
   "outputs": [],
   "source": []
  }
 ],
 "metadata": {
  "kernelspec": {
   "display_name": "Python 3",
   "language": "python",
   "name": "python3"
  },
  "language_info": {
   "codemirror_mode": {
    "name": "ipython",
    "version": 3
   },
   "file_extension": ".py",
   "mimetype": "text/x-python",
   "name": "python",
   "nbconvert_exporter": "python",
   "pygments_lexer": "ipython3",
   "version": "3.7.4"
  }
 },
 "nbformat": 4,
 "nbformat_minor": 4
}
