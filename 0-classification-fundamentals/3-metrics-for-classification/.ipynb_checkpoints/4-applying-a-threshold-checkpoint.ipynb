{
 "cells": [
  {
   "cell_type": "markdown",
   "metadata": {},
   "source": [
    "# Determining the Tradeoff"
   ]
  },
  {
   "cell_type": "markdown",
   "metadata": {},
   "source": [
    "### Introduction"
   ]
  },
  {
   "cell_type": "markdown",
   "metadata": {},
   "source": [
    "Over the last couple of lessons, we've seen that there is a tradeoff between recall and precision.  This tradeoff makes sense.  The wider a net we cast, thus increasing the recall, the lower our precision as our false positives increase.  \n",
    "\n",
    "In this lesson, we'll make this tradeoff more explicit.  And we'll see how we can alter our machine learning model depending on the balance we wish to strike."
   ]
  },
  {
   "cell_type": "markdown",
   "metadata": {},
   "source": [
    "### Loading the data"
   ]
  },
  {
   "cell_type": "markdown",
   "metadata": {},
   "source": [
    "Let's continue with our customer churn dataset.  We can begin by loading our data and training a machine learning model."
   ]
  },
  {
   "cell_type": "code",
   "execution_count": 1,
   "metadata": {},
   "outputs": [],
   "source": [
    "import pandas as pd\n",
    "df = pd.read_csv('./coerced_customer_churn.csv', index_col = 0)\n",
    "\n",
    "X = df.drop('Churn', axis = 1)\n",
    "y = df['Churn']"
   ]
  },
  {
   "cell_type": "code",
   "execution_count": 12,
   "metadata": {},
   "outputs": [],
   "source": [
    "from sklearn.model_selection import train_test_split\n",
    "X_train, X_test, y_train, y_test = train_test_split(X, y,\n",
    "                                                    test_size = .4,\n",
    "                                                    random_state = 1)\n",
    "X_validate, X_test, y_validate, y_test = train_test_split(X_test, y_test, \n",
    "                                                          test_size = .5,\n",
    "                                                          random_state = 1)"
   ]
  },
  {
   "cell_type": "code",
   "execution_count": 16,
   "metadata": {},
   "outputs": [],
   "source": [
    "from sklearn.linear_model import LogisticRegression\n",
    "\n",
    "model = LogisticRegression(solver = \"lbfgs\",\n",
    "                           max_iter = 5000, class_weight = 'balanced',\n",
    "                           random_state = 1).fit(X_train, y_train)"
   ]
  },
  {
   "cell_type": "code",
   "execution_count": 17,
   "metadata": {},
   "outputs": [
    {
     "data": {
      "text/plain": [
       "0.7643718949609652"
      ]
     },
     "execution_count": 17,
     "metadata": {},
     "output_type": "execute_result"
    }
   ],
   "source": [
    "model.score(X_validate, y_validate)"
   ]
  },
  {
   "cell_type": "markdown",
   "metadata": {},
   "source": [
    "### Modifying the Threshold"
   ]
  },
  {
   "cell_type": "code",
   "execution_count": 18,
   "metadata": {},
   "outputs": [],
   "source": [
    "from sklearn.metrics import precision_score, recall_score"
   ]
  },
  {
   "cell_type": "code",
   "execution_count": 19,
   "metadata": {},
   "outputs": [
    {
     "data": {
      "text/plain": [
       "(0.7922437673130194, 0.5267034990791897)"
      ]
     },
     "execution_count": 19,
     "metadata": {},
     "output_type": "execute_result"
    }
   ],
   "source": [
    "recall_score(y_validate, model.predict(X_validate)), precision_score(y_validate, model.predict(X_validate))"
   ]
  },
  {
   "cell_type": "markdown",
   "metadata": {},
   "source": [
    "Now, let's try to improve our recall score, and thus detect more customers who will churn, by lowering our threshold for making a positive prediction.  We can do so, predicting those with a `prob_a` score of only .40 to be positive.  This will have our model cast a wider net, by including observations that previously did not meet the threshold to be declared positive."
   ]
  },
  {
   "cell_type": "code",
   "execution_count": 20,
   "metadata": {},
   "outputs": [
    {
     "data": {
      "text/plain": [
       "array([False,  True,  True])"
      ]
     },
     "execution_count": 20,
     "metadata": {},
     "output_type": "execute_result"
    }
   ],
   "source": [
    "threshold = .4\n",
    "\n",
    "threshold_preds = (model.predict_proba(X_validate) > threshold)[:, 1]\n",
    "threshold_preds[:3]"
   ]
  },
  {
   "cell_type": "markdown",
   "metadata": {},
   "source": [
    "So above we simply check if the score is above our threshold of `.4`.  Those. that are above .4 are now declared positive.  Doing so should now increase our recall score, and decrease our precision score.  Let's see it."
   ]
  },
  {
   "cell_type": "code",
   "execution_count": 21,
   "metadata": {},
   "outputs": [
    {
     "data": {
      "text/plain": [
       "(0.8808864265927978, 0.47604790419161674)"
      ]
     },
     "execution_count": 21,
     "metadata": {},
     "output_type": "execute_result"
    }
   ],
   "source": [
    "recall_score(y_validate, threshold_preds), precision_score(y_validate, threshold_preds)"
   ]
  },
  {
   "cell_type": "markdown",
   "metadata": {},
   "source": [
    "And it did.  We now capture 88 percent of the positive observations, but over half of the observations that we capture are false positives. Depending on the business goals -- perhaps it's worth it to still give more customers a call -- this may be ok."
   ]
  },
  {
   "cell_type": "markdown",
   "metadata": {},
   "source": [
    "### Plotting Precision and Recall Scores"
   ]
  },
  {
   "cell_type": "markdown",
   "metadata": {},
   "source": [
    "Having the ability to balance precision and recall is a really practical skill.  For example, in this example, we don't want customers to churn, but there's also a cost to any efforts (like a discount) to retain them.\n",
    "\n",
    "This balancing act is made easier with the use of the `precision_recall_curve` function provided by sklearn."
   ]
  },
  {
   "cell_type": "markdown",
   "metadata": {},
   "source": [
    "Just like with our `precision_score` and `recall_score` functions, we pass through the true values, and our predicted values."
   ]
  },
  {
   "cell_type": "code",
   "execution_count": 23,
   "metadata": {},
   "outputs": [],
   "source": [
    "from sklearn.metrics import precision_recall_curve\n",
    "y_val_preds = model.predict_proba(X_validate)\n",
    "precision, recall, thresholds = precision_recall_curve(y_validate,\n",
    "                                                       y_val_preds[:, 1])\n"
   ]
  },
  {
   "cell_type": "markdown",
   "metadata": {},
   "source": [
    "> We are returned the scores for the precision, recall, and related thresholds."
   ]
  },
  {
   "cell_type": "code",
   "execution_count": 28,
   "metadata": {},
   "outputs": [
    {
     "data": {
      "text/plain": [
       "(array([0.01136386, 0.01141423, 0.01142687]),\n",
       " array([1.        , 0.99722992, 0.99722992]),\n",
       " array([0.26311953, 0.26258206, 0.26277372]))"
      ]
     },
     "execution_count": 28,
     "metadata": {},
     "output_type": "execute_result"
    }
   ],
   "source": [
    "thresholds[:3], recall[:3], precision[:3], "
   ]
  },
  {
   "cell_type": "markdown",
   "metadata": {},
   "source": [
    "> We can see that as the amount in the thresholds decrease, we capture fewer of the total observations and thus the recall decreases.  As our model is more selective the precision increases."
   ]
  },
  {
   "cell_type": "code",
   "execution_count": 64,
   "metadata": {},
   "outputs": [
    {
     "data": {
      "text/plain": [
       "((1307,), (1306,), (1307,))"
      ]
     },
     "execution_count": 64,
     "metadata": {},
     "output_type": "execute_result"
    }
   ],
   "source": [
    "precision.shape, thresholds.shape, recall.shape"
   ]
  },
  {
   "cell_type": "markdown",
   "metadata": {},
   "source": [
    "We plot these tradeoffs below.  For each of the scatter plots we plot the thresholds on the x axis, and the related precision or recall on the y axis."
   ]
  },
  {
   "cell_type": "code",
   "execution_count": 30,
   "metadata": {},
   "outputs": [
    {
     "data": {
      "text/plain": [
       "<matplotlib.legend.Legend at 0x118fd67d0>"
      ]
     },
     "execution_count": 30,
     "metadata": {},
     "output_type": "execute_result"
    },
    {
     "data": {
      "image/png": "[encoded data removed]",
      "text/plain": [
       "<Figure size 432x288 with 1 Axes>"
      ]
     },
     "metadata": {
      "needs_background": "light"
     },
     "output_type": "display_data"
    }
   ],
   "source": [
    "import matplotlib.pyplot as plt\n",
    "plt.scatter(x = thresholds, \n",
    "            y = precision[1:], \n",
    "            label = 'precision')\n",
    "plt.scatter(x = thresholds,\n",
    "            y = recall[1:], label= 'recall')\n",
    "plt.axhline(linewidth=2, color='r', y = .5)\n",
    "plt.axvline(linewidth=2, color='y', x = .45)\n",
    "plt.legend()"
   ]
  },
  {
   "cell_type": "markdown",
   "metadata": {},
   "source": [
    "Let's say that we wanted to have recall as much as possible, so long as precision does not drop below 50 percent.  We can see from the plot above, that we can still maintain a precision of .5 (the red line), if set a threshold at .45 (the yellow line) and have a recall of around .85 or so."
   ]
  },
  {
   "cell_type": "markdown",
   "metadata": {},
   "source": [
    "### Solving with Code"
   ]
  },
  {
   "cell_type": "markdown",
   "metadata": {},
   "source": [
    "Of course, to find the exact number we can loop through some different thresholds calculating the precision and accuracy for each one."
   ]
  },
  {
   "cell_type": "code",
   "execution_count": 31,
   "metadata": {},
   "outputs": [],
   "source": [
    "df = pd.DataFrame({'thresholds':thresholds, 'precision':precision[1:], 'recalls': recall[1:]})"
   ]
  },
  {
   "cell_type": "code",
   "execution_count": 32,
   "metadata": {},
   "outputs": [
    {
     "data": {
      "text/html": [
       "<div>\n",
       "<style scoped>\n",
       "    .dataframe tbody tr th:only-of-type {\n",
       "        vertical-align: middle;\n",
       "    }\n",
       "\n",
       "    .dataframe tbody tr th {\n",
       "        vertical-align: top;\n",
       "    }\n",
       "\n",
       "    .dataframe thead th {\n",
       "        text-align: right;\n",
       "    }\n",
       "</style>\n",
       "<table border=\"1\" class=\"dataframe\">\n",
       "  <thead>\n",
       "    <tr style=\"text-align: right;\">\n",
       "      <th></th>\n",
       "      <th>thresholds</th>\n",
       "      <th>precision</th>\n",
       "      <th>recalls</th>\n",
       "    </tr>\n",
       "  </thead>\n",
       "  <tbody>\n",
       "    <tr>\n",
       "      <th>0</th>\n",
       "      <td>0.011364</td>\n",
       "      <td>0.262582</td>\n",
       "      <td>0.99723</td>\n",
       "    </tr>\n",
       "    <tr>\n",
       "      <th>1</th>\n",
       "      <td>0.011414</td>\n",
       "      <td>0.262774</td>\n",
       "      <td>0.99723</td>\n",
       "    </tr>\n",
       "    <tr>\n",
       "      <th>2</th>\n",
       "      <td>0.011427</td>\n",
       "      <td>0.262966</td>\n",
       "      <td>0.99723</td>\n",
       "    </tr>\n",
       "  </tbody>\n",
       "</table>\n",
       "</div>"
      ],
      "text/plain": [
       "   thresholds  precision  recalls\n",
       "0    0.011364   0.262582  0.99723\n",
       "1    0.011414   0.262774  0.99723\n",
       "2    0.011427   0.262966  0.99723"
      ]
     },
     "execution_count": 32,
     "metadata": {},
     "output_type": "execute_result"
    }
   ],
   "source": [
    "df[:3]"
   ]
  },
  {
   "cell_type": "markdown",
   "metadata": {},
   "source": [
    "We find where the precision is .5 (or thereabouts)."
   ]
  },
  {
   "cell_type": "code",
   "execution_count": 33,
   "metadata": {},
   "outputs": [
    {
     "data": {
      "text/html": [
       "<div>\n",
       "<style scoped>\n",
       "    .dataframe tbody tr th:only-of-type {\n",
       "        vertical-align: middle;\n",
       "    }\n",
       "\n",
       "    .dataframe tbody tr th {\n",
       "        vertical-align: top;\n",
       "    }\n",
       "\n",
       "    .dataframe thead th {\n",
       "        text-align: right;\n",
       "    }\n",
       "</style>\n",
       "<table border=\"1\" class=\"dataframe\">\n",
       "  <thead>\n",
       "    <tr style=\"text-align: right;\">\n",
       "      <th></th>\n",
       "      <th>thresholds</th>\n",
       "      <th>precision</th>\n",
       "      <th>recalls</th>\n",
       "    </tr>\n",
       "  </thead>\n",
       "  <tbody>\n",
       "    <tr>\n",
       "      <th>753</th>\n",
       "      <td>0.438804</td>\n",
       "      <td>0.5</td>\n",
       "      <td>0.853186</td>\n",
       "    </tr>\n",
       "    <tr>\n",
       "      <th>755</th>\n",
       "      <td>0.442016</td>\n",
       "      <td>0.5</td>\n",
       "      <td>0.850416</td>\n",
       "    </tr>\n",
       "    <tr>\n",
       "      <th>763</th>\n",
       "      <td>0.451511</td>\n",
       "      <td>0.5</td>\n",
       "      <td>0.839335</td>\n",
       "    </tr>\n",
       "  </tbody>\n",
       "</table>\n",
       "</div>"
      ],
      "text/plain": [
       "     thresholds  precision   recalls\n",
       "753    0.438804        0.5  0.853186\n",
       "755    0.442016        0.5  0.850416\n",
       "763    0.451511        0.5  0.839335"
      ]
     },
     "execution_count": 33,
     "metadata": {},
     "output_type": "execute_result"
    }
   ],
   "source": [
    "df[(df['precision'] < .5001) & (df['precision'] > .4999)]"
   ]
  },
  {
   "cell_type": "markdown",
   "metadata": {},
   "source": [
    "So we can see that we can have a recall score of .85 if we allow precision to drop to .5.  And we can do so with a threshold of .44."
   ]
  },
  {
   "cell_type": "markdown",
   "metadata": {},
   "source": [
    "So let's do this:"
   ]
  },
  {
   "cell_type": "code",
   "execution_count": 36,
   "metadata": {},
   "outputs": [
    {
     "data": {
      "text/plain": [
       "(0.853185595567867, 0.5)"
      ]
     },
     "execution_count": 36,
     "metadata": {},
     "output_type": "execute_result"
    }
   ],
   "source": [
    "threshold = .44\n",
    "\n",
    "threshold_preds = (model.predict_proba(X_validate) > threshold)[:, 1]\n",
    "threshold_preds[:3]\n",
    "\n",
    "recall_score(y_validate, threshold_preds), precision_score(y_validate, threshold_preds)"
   ]
  },
  {
   "cell_type": "markdown",
   "metadata": {},
   "source": [
    "And these are the related predictions."
   ]
  },
  {
   "cell_type": "code",
   "execution_count": 76,
   "metadata": {},
   "outputs": [
    {
     "data": {
      "text/plain": [
       "array([1, 1, 0, 1, 1])"
      ]
     },
     "execution_count": 76,
     "metadata": {},
     "output_type": "execute_result"
    }
   ],
   "source": [
    "threshold_preds.astype('int')[:5]"
   ]
  },
  {
   "cell_type": "markdown",
   "metadata": {},
   "source": [
    "### Wrapping Up"
   ]
  },
  {
   "cell_type": "markdown",
   "metadata": {},
   "source": [
    "Finally, because precision and recall occur in tradeoffs, data scientists often use an average of precision and recall to summarize how well a model is performing on both of these metrics.  Except, the kind of average they use is called a harmonic mean.  The harmonic mean of precision and recall is the following: "
   ]
  },
  {
   "cell_type": "markdown",
   "metadata": {},
   "source": [
    "$F_1 = \\frac{p*r}{p + r}$"
   ]
  },
  {
   "cell_type": "code",
   "execution_count": 77,
   "metadata": {},
   "outputs": [
    {
     "data": {
      "text/plain": [
       "0.6128680479825518"
      ]
     },
     "execution_count": 77,
     "metadata": {},
     "output_type": "execute_result"
    }
   ],
   "source": [
    "from sklearn.metrics import f1_score\n",
    "\n",
    "f1_score(y_validate, threshold_preds)"
   ]
  },
  {
   "cell_type": "markdown",
   "metadata": {},
   "source": [
    "> To find exactly where the harmonic mean peaks, we can again loop through various thresholds."
   ]
  },
  {
   "cell_type": "code",
   "execution_count": 37,
   "metadata": {},
   "outputs": [],
   "source": [
    "from sklearn.metrics import f1_score"
   ]
  },
  {
   "cell_type": "code",
   "execution_count": 47,
   "metadata": {},
   "outputs": [],
   "source": [
    "import numpy as np \n",
    "thresholds = np.linspace(.30, .70, 100)"
   ]
  },
  {
   "cell_type": "code",
   "execution_count": 42,
   "metadata": {},
   "outputs": [],
   "source": [
    "thresholds_and_f1_scores = []\n",
    "for threshold in thresholds:\n",
    "    threshold_preds = (model.predict_proba(X_validate) > threshold)[:, 1]\n",
    "    score = f1_score(y_validate, threshold_preds)\n",
    "    thresholds_and_f1_scores.append((threshold, score))"
   ]
  },
  {
   "cell_type": "code",
   "execution_count": 43,
   "metadata": {},
   "outputs": [],
   "source": [
    "df = pd.DataFrame(thresholds_and_f1_scores, columns = ['threshold', 'f1'])"
   ]
  },
  {
   "cell_type": "code",
   "execution_count": 46,
   "metadata": {},
   "outputs": [
    {
     "data": {
      "text/plain": [
       "<matplotlib.axes._subplots.AxesSubplot at 0x11e5ece10>"
      ]
     },
     "execution_count": 46,
     "metadata": {},
     "output_type": "execute_result"
    },
    {
     "data": {
      "image/png": "[encoded data removed]",
      "text/plain": [
       "<Figure size 432x288 with 1 Axes>"
      ]
     },
     "metadata": {
      "needs_background": "light"
     },
     "output_type": "display_data"
    }
   ],
   "source": [
    "df.plot.scatter(x = 'threshold', y = 'f1')"
   ]
  },
  {
   "cell_type": "markdown",
   "metadata": {},
   "source": [
    "So if our goal is to maximize the f1 score, we can see that this peaks right around .55."
   ]
  },
  {
   "cell_type": "markdown",
   "metadata": {},
   "source": [
    "### Summary"
   ]
  },
  {
   "cell_type": "markdown",
   "metadata": {},
   "source": [
    "In this lesson, we saw how to balance precision and recall.  We saw that we can change the threshold from where we classify an observation as positive or negative with the following code:\n",
    "\n",
    "```python\n",
    "model.predict_proba(X_validate) > threshold\n",
    "```"
   ]
  },
  {
   "cell_type": "markdown",
   "metadata": {},
   "source": [
    "Then we saw how to plot the various tradeoffs with the precision_recall_curve.  The method takes in the true labels and the models predictions, and returns the precision and recall scores at various thresholds.\n",
    "\n",
    "```python\n",
    "y_val_preds = model.predict_proba(X_validate)\n",
    "precision, recall, thresholds = precision_recall_curve(y_validate, y_val_preds[:, 1])\n",
    "```"
   ]
  },
  {
   "cell_type": "markdown",
   "metadata": {},
   "source": [
    "We then plot the threshold against the precision score, and the threshold against the recall score to better see the tradeoffs for our model.  "
   ]
  }
 ],
 "metadata": {
  "kernelspec": {
   "display_name": "Python 3",
   "language": "python",
   "name": "python3"
  },
  "language_info": {
   "codemirror_mode": {
    "name": "ipython",
    "version": 3
   },
   "file_extension": ".py",
   "mimetype": "text/x-python",
   "name": "python",
   "nbconvert_exporter": "python",
   "pygments_lexer": "ipython3",
   "version": "3.7.4"
  }
 },
 "nbformat": 4,
 "nbformat_minor": 4
}
