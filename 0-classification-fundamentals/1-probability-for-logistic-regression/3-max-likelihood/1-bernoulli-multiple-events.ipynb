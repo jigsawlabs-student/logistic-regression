{
 "cells": [
  {
   "cell_type": "markdown",
   "metadata": {},
   "source": [
    "# Bernoulli Multiple Events"
   ]
  },
  {
   "cell_type": "markdown",
   "metadata": {},
   "source": [
    "### Introduction"
   ]
  },
  {
   "cell_type": "markdown",
   "metadata": {},
   "source": [
    "In the last lesson, we learned about the bernoulli random variable.  We saw that we can use a bernoulli random variable to describe a random variable where there are only two potential outcomes.  We also saw that the probability distribution function for a bernoulli random variable is defined as:"
   ]
  },
  {
   "cell_type": "markdown",
   "metadata": {},
   "source": [
    "$X \\sim Ber(p)$ \n",
    "\n",
    "* $P(x = 1| p): p$\n",
    "* $ P(x = 0| p): 1 - p$"
   ]
  },
  {
   "cell_type": "markdown",
   "metadata": {},
   "source": [
    "And that this can be rewritten as:\n",
    "\n",
    "* $P(X = x) = p^x* (1 - p)^{1-x}$"
   ]
  },
  {
   "cell_type": "markdown",
   "metadata": {},
   "source": [
    "This is because, when $x = 1$, the above equation reduces to: "
   ]
  },
  {
   "cell_type": "markdown",
   "metadata": {},
   "source": [
    "* $P(x = 1) = p^1* (1 - p)^{1-1} = p$"
   ]
  },
  {
   "cell_type": "markdown",
   "metadata": {},
   "source": [
    "And when x = 0, the above equation reduces to:\n",
    "\n",
    "* $P(x = 0) = p^0* (1 - p)^{1} = 1 - p$"
   ]
  },
  {
   "cell_type": "markdown",
   "metadata": {},
   "source": [
    "In this lesson, we'll see how we can use a bernoulli random variable to predict the occurrence of a sequence of events."
   ]
  },
  {
   "cell_type": "markdown",
   "metadata": {},
   "source": [
    "### Predicting An Event Sequence"
   ]
  },
  {
   "cell_type": "markdown",
   "metadata": {},
   "source": [
    "Now instead of predicting the probability of it raining on a particular day, let's find the probability of it raining on the first five of six days throws, given a probability of $.7$ of it raining for each individual day."
   ]
  },
  {
   "cell_type": "markdown",
   "metadata": {},
   "source": [
    "We can calculate the probability of it raining the first five of six days as:"
   ]
  },
  {
   "cell_type": "code",
   "execution_count": 2,
   "metadata": {},
   "outputs": [
    {
     "data": {
      "text/plain": [
       "0.05042099999999998"
      ]
     },
     "execution_count": 2,
     "metadata": {},
     "output_type": "execute_result"
    }
   ],
   "source": [
    ".7*.7*.7*.7*.7*.3"
   ]
  },
  {
   "cell_type": "markdown",
   "metadata": {},
   "source": [
    "So we see that given his 70 percent chance of rain, one out of twenty times, it will rain five of the first six days.  Let's write a function called `probability_of_events`, that given a probability of an event, tells us the probability of a sequence of events occurring."
   ]
  },
  {
   "cell_type": "code",
   "execution_count": 4,
   "metadata": {},
   "outputs": [],
   "source": [
    "events = [1, 1, 1, 1, 1, 0]\n",
    "p = .7"
   ]
  },
  {
   "cell_type": "code",
   "execution_count": 5,
   "metadata": {},
   "outputs": [],
   "source": [
    "def probability_of_events(events, p):\n",
    "    total_prob = 1\n",
    "    for event in events:\n",
    "        if event == 1:\n",
    "            total_prob = total_prob*(p)\n",
    "        if event == 0:\n",
    "            total_prob = total_prob*(1 - p)\n",
    "    return total_prob"
   ]
  },
  {
   "cell_type": "markdown",
   "metadata": {},
   "source": [
    "> In the function above, for each event, we multiply the probability of occurrence if the event occurred, and 1 - p that probability if it did not occur.  Notice that we get the same answer as before."
   ]
  },
  {
   "cell_type": "code",
   "execution_count": 6,
   "metadata": {},
   "outputs": [
    {
     "data": {
      "text/plain": [
       "0.05042099999999999"
      ]
     },
     "execution_count": 6,
     "metadata": {},
     "output_type": "execute_result"
    }
   ],
   "source": [
    "probability_of_events(events, p)"
   ]
  },
  {
   "cell_type": "markdown",
   "metadata": {},
   "source": [
    "> Note that this is not the probability that of being five days of rain, but rather the probability that it rains for the first five days, and then it does not rain on the sixth."
   ]
  },
  {
   "cell_type": "markdown",
   "metadata": {},
   "source": [
    "### Independent and Identically distributed"
   ]
  },
  {
   "cell_type": "markdown",
   "metadata": {},
   "source": [
    "In finding the probability of a sequence of events, we make a couple of assumptions about the data.\n",
    "\n",
    "1. We assume events are independent\n",
    "\n",
    "The first is that in calculating the probability of rain in a sequence of days, we are assuming that it raining on one day does not affect the probability of it raining on another day.  In other words, the events are **independent**.  When events are independent, knowledge of one event tells us no information of any other event.  "
   ]
  },
  {
   "cell_type": "markdown",
   "metadata": {},
   "source": [
    "2. We assume events are identically distributed\n",
    "\n",
    "Second, we assume that the probability of each event is the same.  This is a common assumption that allow us to simplify the problem of calculating multiple events occurring.  Here, we say that the events are **identically distributed**.  That is, each event adheres to the same random variable $X_i \\sim Ber(.7)$."
   ]
  },
  {
   "cell_type": "markdown",
   "metadata": {},
   "source": [
    "> Notice, that this in real life, our events are probably not independent and identically distributed.  But we often assume that they are as it makes our problem easier to solve."
   ]
  },
  {
   "cell_type": "markdown",
   "metadata": {},
   "source": [
    "### Finding probability of IID Sequence"
   ]
  },
  {
   "cell_type": "markdown",
   "metadata": {},
   "source": [
    "Notice how we find the probability of a sequence of events occurring.  We do so by multiplying the probability of the first event occurring, times the probability of the second event occurring, and so on.\n",
    "\n",
    "> So for example, above, we found the probability of five makes followed by a miss, by multiplying the probability of each event together. "
   ]
  },
  {
   "cell_type": "code",
   "execution_count": 49,
   "metadata": {},
   "outputs": [
    {
     "data": {
      "text/plain": [
       "0.05042099999999998"
      ]
     },
     "execution_count": 49,
     "metadata": {},
     "output_type": "execute_result"
    }
   ],
   "source": [
    ".7*.7*.7*.7*.7*.3"
   ]
  },
  {
   "cell_type": "markdown",
   "metadata": {},
   "source": [
    "In other words, if X is a set of events, $X = \\{1, 1, 1, 1, 1, 0\\}$, then the probability of these events occurring is: \n",
    "\n",
    "* $p(X) = p(x_1)p(x_2)p(x_3)p(x_4)p(x_5)p(x_6) $"
   ]
  },
  {
   "cell_type": "markdown",
   "metadata": {},
   "source": [
    "And we can rewrite $p(X) = p(x_1)p(x_2)p(x_3)p(x_4)p(x_5)p(x_6)$  as:"
   ]
  },
  {
   "cell_type": "markdown",
   "metadata": {},
   "source": [
    "$p(X) = \\prod_{i = 1}^n p(x)$"
   ]
  },
  {
   "cell_type": "markdown",
   "metadata": {},
   "source": [
    "> So just like we describe a sequence of sums, with the summation symbol, $\\sum$, we can describe a sequence of products, with the product symbols, $\\prod$.  "
   ]
  },
  {
   "cell_type": "markdown",
   "metadata": {},
   "source": [
    "In other words the probability of the set of events occurring, is *the product of the probability* of each  event occuring, assuming each of the events are independent."
   ]
  },
  {
   "cell_type": "markdown",
   "metadata": {},
   "source": [
    "Now what does $p(x)$ equal for a bernoulli random variable?  $p^{x_i}(1 - p)^{1 - x_i}$\n",
    "\n",
    "So this means that we can say that if $X$ is described as a bernoulli random variable, where events are iid, the probability of a set of events $X$ occurring is:"
   ]
  },
  {
   "cell_type": "markdown",
   "metadata": {},
   "source": [
    "$P(X) = \\prod_{i = 1}^n p(x_i) = \\prod_{i = 1}^n p^{x_i}(1 - p)^{1 - x_i}$"
   ]
  },
  {
   "cell_type": "markdown",
   "metadata": {},
   "source": [
    "### From Bernoulli to Binomial"
   ]
  },
  {
   "cell_type": "markdown",
   "metadata": {},
   "source": [
    "Now what we calculated with the bernoulli is the probability that an individual sequence occurs.  For example, five rainy days in a row.  But what if we want to know the probability that any five of six days has rain.  Well note there are six different ways this can occur, with the non-rainy day showing up any of the six days.  So really to calculate this, we add the probability of each sequence, and because each sequence has the same probability, we have:"
   ]
  },
  {
   "cell_type": "code",
   "execution_count": 3,
   "metadata": {},
   "outputs": [
    {
     "data": {
      "text/plain": [
       "0.30252599999999985"
      ]
     },
     "execution_count": 3,
     "metadata": {},
     "output_type": "execute_result"
    }
   ],
   "source": [
    "prob_of_each_seq = .7*.7*.7*.7*.7*.3\n",
    "num_of_sequences = 6\n",
    "num_of_sequences*prob_of_each_seq"
   ]
  },
  {
   "cell_type": "markdown",
   "metadata": {},
   "source": [
    "Now it may seem complicated to discover how many ways each sequence can occur.  Notice that to solve it, we asked, how many ways can we choose one of six days to not be rainy.  To a statistician, we word this as: find the *combination* of ways that of n (days) we can choose k to be non-rainy."
   ]
  },
  {
   "cell_type": "code",
   "execution_count": 5,
   "metadata": {},
   "outputs": [
    {
     "data": {
      "text/plain": [
       "6.0"
      ]
     },
     "execution_count": 5,
     "metadata": {},
     "output_type": "execute_result"
    }
   ],
   "source": [
    "from scipy.special import comb\n",
    "comb(6, 1)"
   ]
  },
  {
   "cell_type": "markdown",
   "metadata": {},
   "source": [
    "In statistics, we denote this combination as $n \\choose k$, and we just saw that $6 \\choose 1$ $= 6$.  So if we want to find the that we a sequence of events occurs, we multiply the number of sequences to produce a combination, by the probability of each sequence: "
   ]
  },
  {
   "cell_type": "markdown",
   "metadata": {},
   "source": [
    "${n}\\choose_k $ $\\prod_{i = 1}^n p^{x_i}(1 - p)^{1 - x_i}$"
   ]
  },
  {
   "cell_type": "markdown",
   "metadata": {},
   "source": [
    "So for example, if we want to find out the probability of there being 3 of 5 rainy days, where the probability of rain is .6 then we get:"
   ]
  },
  {
   "cell_type": "code",
   "execution_count": 12,
   "metadata": {},
   "outputs": [
    {
     "data": {
      "text/plain": [
       "(10.0, 0.03456)"
      ]
     },
     "execution_count": 12,
     "metadata": {},
     "output_type": "execute_result"
    }
   ],
   "source": [
    "from scipy.special import comb\n",
    "p_sequence = .6*.6*.6*.4*.4\n",
    "n_sequences = comb(5, 3)\n",
    "\n",
    "n_sequences, p_sequence"
   ]
  },
  {
   "cell_type": "code",
   "execution_count": 13,
   "metadata": {},
   "outputs": [
    {
     "data": {
      "text/plain": [
       "0.3456"
      ]
     },
     "execution_count": 13,
     "metadata": {},
     "output_type": "execute_result"
    }
   ],
   "source": [
    "n_sequences*p_sequence"
   ]
  },
  {
   "cell_type": "markdown",
   "metadata": {},
   "source": [
    "### Summary"
   ]
  },
  {
   "cell_type": "markdown",
   "metadata": {},
   "source": [
    "In this lesson, we learned about using the bernoulli random variable for calculating a sequence of events.  We saw that we can write the probability of a particular sequence of events, described by the bernoulli as:\n",
    "\n",
    "$P(X) = \\prod_{i = 1}^n p(x_i) = \\prod_{i = 1}^n p^{x_i}(1 - p)^{1 - x_i}$"
   ]
  },
  {
   "cell_type": "markdown",
   "metadata": {},
   "source": [
    "We saw that this holds if we assume that the events are independent and identically distributed.  By independent we mean the occurrence or non-occurrence of one event does know change the probability of another event.  And by identically distributed we mean that each event has the same probability.\n",
    "\n",
    "Finally, if we wish to calculate the probability of any sequence of outcomes for a bernoulli, we can do so by multiplying the number of combinations of a sequence by the probability of each sequence.  We expressed this as:"
   ]
  },
  {
   "cell_type": "markdown",
   "metadata": {},
   "source": [
    "${n}\\choose_k $ $\\prod_{i = 1}^n p^{x_i}(1 - p)^{1 - x_i}$"
   ]
  },
  {
   "cell_type": "markdown",
   "metadata": {},
   "source": [
    "Where $n$ is the number of trials and $k$ is the number of successes in those trials."
   ]
  }
 ],
 "metadata": {
  "kernelspec": {
   "display_name": "Python 3",
   "language": "python",
   "name": "python3"
  },
  "language_info": {
   "codemirror_mode": {
    "name": "ipython",
    "version": 3
   },
   "file_extension": ".py",
   "mimetype": "text/x-python",
   "name": "python",
   "nbconvert_exporter": "python",
   "pygments_lexer": "ipython3",
   "version": "3.7.4"
  }
 },
 "nbformat": 4,
 "nbformat_minor": 4
}
