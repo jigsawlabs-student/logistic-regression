{
 "cells": [
  {
   "cell_type": "markdown",
   "metadata": {},
   "source": [
    "# The Log Function"
   ]
  },
  {
   "cell_type": "markdown",
   "metadata": {},
   "source": [
    "### Introduction"
   ]
  },
  {
   "cell_type": "markdown",
   "metadata": {},
   "source": [
    "It's time that we learned a bit about the logarithmic function.  Different equations that we'll come across make use of the logarithmic function, because it simplify some of our equations.  Let's take a look.  "
   ]
  },
  {
   "cell_type": "markdown",
   "metadata": {},
   "source": [
    "### Defining the log"
   ]
  },
  {
   "cell_type": "markdown",
   "metadata": {},
   "source": [
    "Let's say that we have the number $y = 32$, and want to see how many times we divide the number 32 by 2, to get down to one."
   ]
  },
  {
   "cell_type": "code",
   "execution_count": 8,
   "metadata": {},
   "outputs": [
    {
     "data": {
      "text/plain": [
       "1.0"
      ]
     },
     "execution_count": 8,
     "metadata": {},
     "output_type": "execute_result"
    }
   ],
   "source": [
    "32/2/2/2/2/2"
   ]
  },
  {
   "cell_type": "markdown",
   "metadata": {},
   "source": [
    "Notice that if we make our number y, quite large, our number $x$ doesn't increase as much.  \n",
    "\n",
    "* $y = 1024$"
   ]
  },
  {
   "cell_type": "code",
   "execution_count": 23,
   "metadata": {},
   "outputs": [
    {
     "data": {
      "text/plain": [
       "1.0"
      ]
     },
     "execution_count": 23,
     "metadata": {},
     "output_type": "execute_result"
    }
   ],
   "source": [
    "1024/2/2/2/2/2/2/2/2/2/2"
   ]
  },
  {
   "cell_type": "code",
   "execution_count": 24,
   "metadata": {},
   "outputs": [
    {
     "data": {
      "text/plain": [
       "1024"
      ]
     },
     "execution_count": 24,
     "metadata": {},
     "output_type": "execute_result"
    }
   ],
   "source": [
    "2**10"
   ]
  },
  {
   "cell_type": "markdown",
   "metadata": {},
   "source": [
    "This number, the number of times we need divide by to get back down to 1 is called the log.  "
   ]
  },
  {
   "cell_type": "markdown",
   "metadata": {},
   "source": [
    "So far we have use a log base 2.  In other words in our equation: \n",
    "    \n",
    "* $2^x = 1024, x = 10$"
   ]
  },
  {
   "cell_type": "markdown",
   "metadata": {},
   "source": [
    "The base value is $2$."
   ]
  },
  {
   "cell_type": "markdown",
   "metadata": {},
   "source": [
    "But lots of times, we'll apply the natural log, $ln$, which chooses a base value of $e$, where $e \\approx 2.71828$. "
   ]
  },
  {
   "cell_type": "markdown",
   "metadata": {},
   "source": [
    "$e^5 \\approx 2.7128^5 \\approx 148.41265$"
   ]
  },
  {
   "cell_type": "code",
   "execution_count": 31,
   "metadata": {},
   "outputs": [
    {
     "data": {
      "text/plain": [
       "4.99999663673641"
      ]
     },
     "execution_count": 31,
     "metadata": {},
     "output_type": "execute_result"
    }
   ],
   "source": [
    "np.log(148.41265995084171)"
   ]
  },
  {
   "cell_type": "markdown",
   "metadata": {},
   "source": [
    "So notice that the reason why we got back to our original number 5, is because when we use `np.log`, it uses a base value of $e$.  So with the natural log, we ask the question, $e$ to what value gives us $148.412$."
   ]
  },
  {
   "cell_type": "markdown",
   "metadata": {},
   "source": [
    "### Plotting the log"
   ]
  },
  {
   "cell_type": "markdown",
   "metadata": {},
   "source": [
    "Let's plot the natural log for a range of numbers."
   ]
  },
  {
   "cell_type": "code",
   "execution_count": 19,
   "metadata": {},
   "outputs": [],
   "source": [
    "import numpy as np\n",
    "x_vals = np.arange(.1, 30, .1)"
   ]
  },
  {
   "cell_type": "code",
   "execution_count": 21,
   "metadata": {},
   "outputs": [],
   "source": [
    "log_x = np.log(x_vals)"
   ]
  },
  {
   "cell_type": "code",
   "execution_count": 33,
   "metadata": {},
   "outputs": [
    {
     "data": {
      "application/vnd.plotly.v1+json": {
       "config": {
        "plotlyServerURL": "https://plot.ly"
       },
       "data": [
        {
         "type": "scatter",
         "x": [
          0.1,
          0.2,
          0.30000000000000004,
          0.4,
          0.5,
          0.6,
          0.7000000000000001,
          0.8,
          0.9,
          1,
          1.1,
          1.2000000000000002,
          1.3000000000000003,
          1.4000000000000001,
          1.5000000000000002,
          1.6,
          1.7000000000000002,
          1.8000000000000003,
          1.9000000000000001,
          2,
          2.1,
          2.2,
          2.3000000000000003,
          2.4000000000000004,
          2.5000000000000004,
          2.6,
          2.7,
          2.8000000000000003,
          2.9000000000000004,
          3.0000000000000004,
          3.1,
          3.2,
          3.3000000000000003,
          3.4000000000000004,
          3.5000000000000004,
          3.6,
          3.7,
          3.8000000000000003,
          3.9000000000000004,
          4,
          4.1,
          4.2,
          4.3,
          4.3999999999999995,
          4.5,
          4.6,
          4.7,
          4.8,
          4.9,
          5,
          5.1,
          5.2,
          5.3,
          5.4,
          5.5,
          5.6,
          5.7,
          5.8,
          5.9,
          6,
          6.1,
          6.2,
          6.3,
          6.4,
          6.5,
          6.6,
          6.7,
          6.8,
          6.9,
          7,
          7.1,
          7.2,
          7.3,
          7.4,
          7.5,
          7.6,
          7.7,
          7.8,
          7.9,
          8,
          8.1,
          8.2,
          8.3,
          8.4,
          8.5,
          8.6,
          8.7,
          8.8,
          8.9,
          9,
          9.1,
          9.2,
          9.3,
          9.4,
          9.5,
          9.6,
          9.700000000000001,
          9.8,
          9.9,
          10,
          10.1,
          10.200000000000001,
          10.3,
          10.4,
          10.5,
          10.6,
          10.700000000000001,
          10.8,
          10.9,
          11,
          11.1,
          11.200000000000001,
          11.3,
          11.4,
          11.5,
          11.6,
          11.700000000000001,
          11.8,
          11.9,
          12,
          12.1,
          12.200000000000001,
          12.3,
          12.4,
          12.5,
          12.6,
          12.700000000000001,
          12.8,
          12.9,
          13,
          13.1,
          13.200000000000001,
          13.3,
          13.4,
          13.5,
          13.6,
          13.700000000000001,
          13.8,
          13.9,
          14,
          14.1,
          14.200000000000001,
          14.3,
          14.4,
          14.5,
          14.6,
          14.700000000000001,
          14.8,
          14.9,
          15,
          15.1,
          15.200000000000001,
          15.3,
          15.4,
          15.5,
          15.6,
          15.700000000000001,
          15.8,
          15.9,
          16,
          16.1,
          16.200000000000003,
          16.3,
          16.400000000000002,
          16.500000000000004,
          16.6,
          16.700000000000003,
          16.8,
          16.900000000000002,
          17.000000000000004,
          17.1,
          17.200000000000003,
          17.3,
          17.400000000000002,
          17.500000000000004,
          17.6,
          17.700000000000003,
          17.8,
          17.900000000000002,
          18.000000000000004,
          18.1,
          18.200000000000003,
          18.3,
          18.400000000000002,
          18.500000000000004,
          18.6,
          18.700000000000003,
          18.8,
          18.900000000000002,
          19.000000000000004,
          19.1,
          19.200000000000003,
          19.300000000000004,
          19.400000000000002,
          19.500000000000004,
          19.6,
          19.700000000000003,
          19.800000000000004,
          19.900000000000002,
          20.000000000000004,
          20.1,
          20.200000000000003,
          20.300000000000004,
          20.400000000000002,
          20.500000000000004,
          20.6,
          20.700000000000003,
          20.800000000000004,
          20.900000000000002,
          21.000000000000004,
          21.1,
          21.200000000000003,
          21.300000000000004,
          21.400000000000002,
          21.500000000000004,
          21.6,
          21.700000000000003,
          21.800000000000004,
          21.900000000000002,
          22.000000000000004,
          22.1,
          22.200000000000003,
          22.300000000000004,
          22.400000000000002,
          22.500000000000004,
          22.6,
          22.700000000000003,
          22.800000000000004,
          22.900000000000002,
          23.000000000000004,
          23.1,
          23.200000000000003,
          23.300000000000004,
          23.400000000000002,
          23.500000000000004,
          23.6,
          23.700000000000003,
          23.800000000000004,
          23.900000000000002,
          24.000000000000004,
          24.1,
          24.200000000000003,
          24.300000000000004,
          24.400000000000002,
          24.500000000000004,
          24.6,
          24.700000000000003,
          24.800000000000004,
          24.900000000000002,
          25.000000000000004,
          25.1,
          25.200000000000003,
          25.300000000000004,
          25.400000000000002,
          25.500000000000004,
          25.6,
          25.700000000000003,
          25.800000000000004,
          25.900000000000002,
          26.000000000000004,
          26.1,
          26.200000000000003,
          26.300000000000004,
          26.400000000000002,
          26.500000000000004,
          26.6,
          26.700000000000003,
          26.800000000000004,
          26.900000000000002,
          27.000000000000004,
          27.1,
          27.200000000000003,
          27.300000000000004,
          27.400000000000002,
          27.500000000000004,
          27.6,
          27.700000000000003,
          27.800000000000004,
          27.900000000000002,
          28.000000000000004,
          28.1,
          28.200000000000003,
          28.300000000000004,
          28.400000000000002,
          28.500000000000004,
          28.6,
          28.700000000000003,
          28.800000000000004,
          28.900000000000002,
          29.000000000000004,
          29.1,
          29.200000000000003,
          29.300000000000004,
          29.400000000000002,
          29.500000000000004,
          29.6,
          29.700000000000003,
          29.800000000000004,
          29.900000000000002
         ],
         "y": [
          -2.3025850929940455,
          -1.6094379124341003,
          -1.203972804325936,
          -0.916290731874155,
          -0.6931471805599453,
          -0.5108256237659907,
          -0.3566749439387323,
          -0.2231435513142097,
          -0.10536051565782628,
          0,
          0.09531017980432493,
          0.1823215567939548,
          0.2623642644674913,
          0.336472236621213,
          0.40546510810816455,
          0.47000362924573563,
          0.5306282510621705,
          0.5877866649021192,
          0.6418538861723948,
          0.6931471805599453,
          0.7419373447293773,
          0.7884573603642703,
          0.8329091229351041,
          0.8754687373539001,
          0.9162907318741552,
          0.9555114450274363,
          0.9932517730102834,
          1.0296194171811583,
          1.0647107369924285,
          1.0986122886681098,
          1.1314021114911006,
          1.1631508098056809,
          1.1939224684724346,
          1.2237754316221159,
          1.252762968495368,
          1.2809338454620642,
          1.308332819650179,
          1.3350010667323402,
          1.3609765531356008,
          1.3862943611198906,
          1.410986973710262,
          1.4350845252893227,
          1.4586150226995167,
          1.4816045409242153,
          1.5040773967762742,
          1.5260563034950492,
          1.547562508716013,
          1.5686159179138452,
          1.589235205116581,
          1.6094379124341003,
          1.62924053973028,
          1.6486586255873816,
          1.667706820558076,
          1.6863989535702288,
          1.7047480922384253,
          1.7227665977411035,
          1.7404661748405046,
          1.7578579175523736,
          1.7749523509116738,
          1.791759469228055,
          1.8082887711792655,
          1.824549292051046,
          1.840549633397487,
          1.8562979903656263,
          1.8718021769015913,
          1.8870696490323797,
          1.9021075263969205,
          1.916922612182061,
          1.9315214116032138,
          1.9459101490553132,
          1.9600947840472698,
          1.9740810260220096,
          1.9878743481543455,
          2.0014800002101243,
          2.0149030205422647,
          2.028148247292285,
          2.0412203288596382,
          2.0541237336955462,
          2.066862759472976,
          2.0794415416798357,
          2.0918640616783932,
          2.1041341542702074,
          2.1162555148025524,
          2.128231705849268,
          2.1400661634962708,
          2.151762203259462,
          2.163323025660538,
          2.174751721484161,
          2.186051276738094,
          2.1972245773362196,
          2.2082744135228043,
          2.2192034840549946,
          2.2300144001592104,
          2.2407096892759584,
          2.2512917986064953,
          2.2617630984737906,
          2.2721258855093374,
          2.2823823856765264,
          2.2925347571405443,
          2.302585092994046,
          2.312535423847214,
          2.3223877202902257,
          2.33214389523559,
          2.341805806147327,
          2.3513752571634776,
          2.3608540011180215,
          2.3702437414678608,
          2.379546134130174,
          2.388762789235098,
          2.3978952727983707,
          2.4069451083182885,
          2.415913778301049,
          2.424802725718295,
          2.4336133554004498,
          2.4423470353692043,
          2.451005098112319,
          2.4595888418037104,
          2.468099531471619,
          2.4765384001174837,
          2.4849066497880004,
          2.4932054526026954,
          2.501435951739211,
          2.509599262378372,
          2.517696472610991,
          2.5257286443082556,
          2.533696813957432,
          2.5416019934645457,
          2.5494451709255714,
          2.5572273113676265,
          2.5649493574615367,
          2.5726122302071057,
          2.580216829592325,
          2.5877640352277083,
          2.5952547069568657,
          2.6026896854443837,
          2.6100697927420065,
          2.617395832834079,
          2.624668592163159,
          2.631888840136646,
          2.6390573296152584,
          2.6461747973841225,
          2.653241964607215,
          2.6602595372658615,
          2.667228206581955,
          2.6741486494265287,
          2.681021528714291,
          2.6878474937846906,
          2.6946271807700692,
          2.7013612129514133,
          2.70805020110221,
          2.714694743820879,
          2.7212954278522306,
          2.72785282839839,
          2.7343675094195836,
          2.740840023925201,
          2.747270914255491,
          2.7536607123542622,
          2.760009940032921,
          2.766319109226186,
          2.772588722239781,
          2.7788192719904172,
          2.7850112422383386,
          2.791165107812717,
          2.797281334830153,
          2.8033603809065353,
          2.8094026953624978,
          2.8154087194227095,
          2.8213788864092133,
          2.827313621929028,
          2.833213344056216,
          2.8390784635086144,
          2.8449093838194077,
          2.8507065015037334,
          2.8564702062204836,
          2.8622008809294686,
          2.8678989020441064,
          2.873564639579784,
          2.8791984572980396,
          2.8848007128467095,
          2.890371757896165,
          2.89591193827178,
          2.9014215940827497,
          2.9069010598473755,
          2.91235066461494,
          2.9177707320842794,
          2.9231615807191558,
          2.928523523860541,
          2.9338568698359038,
          2.9391619220655967,
          2.9444389791664407,
          2.9496883350525844,
          2.954910279033736,
          2.96010509591084,
          2.9652730660692828,
          2.9704144655697013,
          2.975529566236472,
          2.980618635743943,
          2.9856819377004897,
          2.990719731730447,
          2.9957322735539913,
          3.0007198150650303,
          3.005682604407159,
          3.0106208860477417,
          3.0155349008501706,
          3.0204248861443626,
          3.0252910757955354,
          3.0301337002713233,
          3.0349529867072724,
          3.0397491589707655,
          3.044522437723423,
          3.0492730404820207,
          3.054001181677967,
          3.0587070727153796,
          3.0633909220278057,
          3.0680529351336174,
          3.0726933146901194,
          3.077312260546414,
          3.0819099697950434,
          3.086486636822455,
          3.091042453358316,
          3.095577608523707,
          3.100092288878234,
          3.1045866784660734,
          3.109060958860994,
          3.1135153092103747,
          3.1179499062782403,
          3.122364924487357,
          3.126760535960395,
          3.131136910560194,
          3.1354942159291497,
          3.139832617527748,
          3.1441522786722644,
          3.148453360571655,
          3.152736022363656,
          3.1570004211501135,
          3.1612467120315646,
          3.1654750481410856,
          3.169685580677429,
          3.173878458937465,
          3.1780538303479458,
          3.1822118404966093,
          3.186352633162641,
          3.190476350346503,
          3.1945831322991562,
          3.1986731175506815,
          3.202746442938317,
          3.2068032436339315,
          3.2108436531709366,
          3.214867803470662,
          3.218875824868201,
          3.2228678461377385,
          3.226843994517378,
          3.230804395733475,
          3.234749174024491,
          3.2386784521643808,
          3.242592351485517,
          3.246490991901174,
          3.250374491927572,
          3.2542429687054923,
          3.258096538021482,
          3.261935314328648,
          3.265759410767051,
          3.269568939183719,
          3.2733640101522705,
          3.2771447329921766,
          3.2809112157876537,
          3.2846635654062037,
          3.288401887516811,
          3.2921262866077936,
          3.295836866004329,
          3.299533727885655,
          3.303216973301952,
          3.3068867021909143,
          3.3105430133940246,
          3.3141860046725258,
          3.3178157727231046,
          3.321432413193293,
          3.3250360206965914,
          3.32862668882732,
          3.3322045101752042,
          3.3357695763397,
          3.339321977944068,
          3.3428618046491922,
          3.3463891451671604,
          3.349904087274605,
          3.353406717825807,
          3.3568971227655755,
          3.3603753871419,
          3.3638415951183864,
          3.367295829986474,
          3.370738174177447,
          3.3741687092742363,
          3.3775875160230218,
          3.380994674344636,
          3.3843902633457743,
          3.3877743613300146,
          3.391147045808654,
          3.3945083935113587,
          3.397858480396641
         ]
        }
       ],
       "layout": {
        "autosize": true,
        "template": {
         "data": {
          "bar": [
           {
            "error_x": {
             "color": "#2a3f5f"
            },
            "error_y": {
             "color": "#2a3f5f"
            },
            "marker": {
             "line": {
              "color": "#E5ECF6",
              "width": 0.5
             }
            },
            "type": "bar"
           }
          ],
          "barpolar": [
           {
            "marker": {
             "line": {
              "color": "#E5ECF6",
              "width": 0.5
             }
            },
            "type": "barpolar"
           }
          ],
          "carpet": [
           {
            "aaxis": {
             "endlinecolor": "#2a3f5f",
             "gridcolor": "white",
             "linecolor": "white",
             "minorgridcolor": "white",
             "startlinecolor": "#2a3f5f"
            },
            "baxis": {
             "endlinecolor": "#2a3f5f",
             "gridcolor": "white",
             "linecolor": "white",
             "minorgridcolor": "white",
             "startlinecolor": "#2a3f5f"
            },
            "type": "carpet"
           }
          ],
          "choropleth": [
           {
            "colorbar": {
             "outlinewidth": 0,
             "ticks": ""
            },
            "type": "choropleth"
           }
          ],
          "contour": [
           {
            "colorbar": {
             "outlinewidth": 0,
             "ticks": ""
            },
            "colorscale": [
             [
              0,
              "#0d0887"
             ],
             [
              0.1111111111111111,
              "#46039f"
             ],
             [
              0.2222222222222222,
              "#7201a8"
             ],
             [
              0.3333333333333333,
              "#9c179e"
             ],
             [
              0.4444444444444444,
              "#bd3786"
             ],
             [
              0.5555555555555556,
              "#d8576b"
             ],
             [
              0.6666666666666666,
              "#ed7953"
             ],
             [
              0.7777777777777778,
              "#fb9f3a"
             ],
             [
              0.8888888888888888,
              "#fdca26"
             ],
             [
              1,
              "#f0f921"
             ]
            ],
            "type": "contour"
           }
          ],
          "contourcarpet": [
           {
            "colorbar": {
             "outlinewidth": 0,
             "ticks": ""
            },
            "type": "contourcarpet"
           }
          ],
          "heatmap": [
           {
            "colorbar": {
             "outlinewidth": 0,
             "ticks": ""
            },
            "colorscale": [
             [
              0,
              "#0d0887"
             ],
             [
              0.1111111111111111,
              "#46039f"
             ],
             [
              0.2222222222222222,
              "#7201a8"
             ],
             [
              0.3333333333333333,
              "#9c179e"
             ],
             [
              0.4444444444444444,
              "#bd3786"
             ],
             [
              0.5555555555555556,
              "#d8576b"
             ],
             [
              0.6666666666666666,
              "#ed7953"
             ],
             [
              0.7777777777777778,
              "#fb9f3a"
             ],
             [
              0.8888888888888888,
              "#fdca26"
             ],
             [
              1,
              "#f0f921"
             ]
            ],
            "type": "heatmap"
           }
          ],
          "heatmapgl": [
           {
            "colorbar": {
             "outlinewidth": 0,
             "ticks": ""
            },
            "colorscale": [
             [
              0,
              "#0d0887"
             ],
             [
              0.1111111111111111,
              "#46039f"
             ],
             [
              0.2222222222222222,
              "#7201a8"
             ],
             [
              0.3333333333333333,
              "#9c179e"
             ],
             [
              0.4444444444444444,
              "#bd3786"
             ],
             [
              0.5555555555555556,
              "#d8576b"
             ],
             [
              0.6666666666666666,
              "#ed7953"
             ],
             [
              0.7777777777777778,
              "#fb9f3a"
             ],
             [
              0.8888888888888888,
              "#fdca26"
             ],
             [
              1,
              "#f0f921"
             ]
            ],
            "type": "heatmapgl"
           }
          ],
          "histogram": [
           {
            "marker": {
             "colorbar": {
              "outlinewidth": 0,
              "ticks": ""
             }
            },
            "type": "histogram"
           }
          ],
          "histogram2d": [
           {
            "colorbar": {
             "outlinewidth": 0,
             "ticks": ""
            },
            "colorscale": [
             [
              0,
              "#0d0887"
             ],
             [
              0.1111111111111111,
              "#46039f"
             ],
             [
              0.2222222222222222,
              "#7201a8"
             ],
             [
              0.3333333333333333,
              "#9c179e"
             ],
             [
              0.4444444444444444,
              "#bd3786"
             ],
             [
              0.5555555555555556,
              "#d8576b"
             ],
             [
              0.6666666666666666,
              "#ed7953"
             ],
             [
              0.7777777777777778,
              "#fb9f3a"
             ],
             [
              0.8888888888888888,
              "#fdca26"
             ],
             [
              1,
              "#f0f921"
             ]
            ],
            "type": "histogram2d"
           }
          ],
          "histogram2dcontour": [
           {
            "colorbar": {
             "outlinewidth": 0,
             "ticks": ""
            },
            "colorscale": [
             [
              0,
              "#0d0887"
             ],
             [
              0.1111111111111111,
              "#46039f"
             ],
             [
              0.2222222222222222,
              "#7201a8"
             ],
             [
              0.3333333333333333,
              "#9c179e"
             ],
             [
              0.4444444444444444,
              "#bd3786"
             ],
             [
              0.5555555555555556,
              "#d8576b"
             ],
             [
              0.6666666666666666,
              "#ed7953"
             ],
             [
              0.7777777777777778,
              "#fb9f3a"
             ],
             [
              0.8888888888888888,
              "#fdca26"
             ],
             [
              1,
              "#f0f921"
             ]
            ],
            "type": "histogram2dcontour"
           }
          ],
          "mesh3d": [
           {
            "colorbar": {
             "outlinewidth": 0,
             "ticks": ""
            },
            "type": "mesh3d"
           }
          ],
          "parcoords": [
           {
            "line": {
             "colorbar": {
              "outlinewidth": 0,
              "ticks": ""
             }
            },
            "type": "parcoords"
           }
          ],
          "pie": [
           {
            "automargin": true,
            "type": "pie"
           }
          ],
          "scatter": [
           {
            "marker": {
             "colorbar": {
              "outlinewidth": 0,
              "ticks": ""
             }
            },
            "type": "scatter"
           }
          ],
          "scatter3d": [
           {
            "line": {
             "colorbar": {
              "outlinewidth": 0,
              "ticks": ""
             }
            },
            "marker": {
             "colorbar": {
              "outlinewidth": 0,
              "ticks": ""
             }
            },
            "type": "scatter3d"
           }
          ],
          "scattercarpet": [
           {
            "marker": {
             "colorbar": {
              "outlinewidth": 0,
              "ticks": ""
             }
            },
            "type": "scattercarpet"
           }
          ],
          "scattergeo": [
           {
            "marker": {
             "colorbar": {
              "outlinewidth": 0,
              "ticks": ""
             }
            },
            "type": "scattergeo"
           }
          ],
          "scattergl": [
           {
            "marker": {
             "colorbar": {
              "outlinewidth": 0,
              "ticks": ""
             }
            },
            "type": "scattergl"
           }
          ],
          "scattermapbox": [
           {
            "marker": {
             "colorbar": {
              "outlinewidth": 0,
              "ticks": ""
             }
            },
            "type": "scattermapbox"
           }
          ],
          "scatterpolar": [
           {
            "marker": {
             "colorbar": {
              "outlinewidth": 0,
              "ticks": ""
             }
            },
            "type": "scatterpolar"
           }
          ],
          "scatterpolargl": [
           {
            "marker": {
             "colorbar": {
              "outlinewidth": 0,
              "ticks": ""
             }
            },
            "type": "scatterpolargl"
           }
          ],
          "scatterternary": [
           {
            "marker": {
             "colorbar": {
              "outlinewidth": 0,
              "ticks": ""
             }
            },
            "type": "scatterternary"
           }
          ],
          "surface": [
           {
            "colorbar": {
             "outlinewidth": 0,
             "ticks": ""
            },
            "colorscale": [
             [
              0,
              "#0d0887"
             ],
             [
              0.1111111111111111,
              "#46039f"
             ],
             [
              0.2222222222222222,
              "#7201a8"
             ],
             [
              0.3333333333333333,
              "#9c179e"
             ],
             [
              0.4444444444444444,
              "#bd3786"
             ],
             [
              0.5555555555555556,
              "#d8576b"
             ],
             [
              0.6666666666666666,
              "#ed7953"
             ],
             [
              0.7777777777777778,
              "#fb9f3a"
             ],
             [
              0.8888888888888888,
              "#fdca26"
             ],
             [
              1,
              "#f0f921"
             ]
            ],
            "type": "surface"
           }
          ],
          "table": [
           {
            "cells": {
             "fill": {
              "color": "#EBF0F8"
             },
             "line": {
              "color": "white"
             }
            },
            "header": {
             "fill": {
              "color": "#C8D4E3"
             },
             "line": {
              "color": "white"
             }
            },
            "type": "table"
           }
          ]
         },
         "layout": {
          "annotationdefaults": {
           "arrowcolor": "#2a3f5f",
           "arrowhead": 0,
           "arrowwidth": 1
          },
          "coloraxis": {
           "colorbar": {
            "outlinewidth": 0,
            "ticks": ""
           }
          },
          "colorscale": {
           "diverging": [
            [
             0,
             "#8e0152"
            ],
            [
             0.1,
             "#c51b7d"
            ],
            [
             0.2,
             "#de77ae"
            ],
            [
             0.3,
             "#f1b6da"
            ],
            [
             0.4,
             "#fde0ef"
            ],
            [
             0.5,
             "#f7f7f7"
            ],
            [
             0.6,
             "#e6f5d0"
            ],
            [
             0.7,
             "#b8e186"
            ],
            [
             0.8,
             "#7fbc41"
            ],
            [
             0.9,
             "#4d9221"
            ],
            [
             1,
             "#276419"
            ]
           ],
           "sequential": [
            [
             0,
             "#0d0887"
            ],
            [
             0.1111111111111111,
             "#46039f"
            ],
            [
             0.2222222222222222,
             "#7201a8"
            ],
            [
             0.3333333333333333,
             "#9c179e"
            ],
            [
             0.4444444444444444,
             "#bd3786"
            ],
            [
             0.5555555555555556,
             "#d8576b"
            ],
            [
             0.6666666666666666,
             "#ed7953"
            ],
            [
             0.7777777777777778,
             "#fb9f3a"
            ],
            [
             0.8888888888888888,
             "#fdca26"
            ],
            [
             1,
             "#f0f921"
            ]
           ],
           "sequentialminus": [
            [
             0,
             "#0d0887"
            ],
            [
             0.1111111111111111,
             "#46039f"
            ],
            [
             0.2222222222222222,
             "#7201a8"
            ],
            [
             0.3333333333333333,
             "#9c179e"
            ],
            [
             0.4444444444444444,
             "#bd3786"
            ],
            [
             0.5555555555555556,
             "#d8576b"
            ],
            [
             0.6666666666666666,
             "#ed7953"
            ],
            [
             0.7777777777777778,
             "#fb9f3a"
            ],
            [
             0.8888888888888888,
             "#fdca26"
            ],
            [
             1,
             "#f0f921"
            ]
           ]
          },
          "colorway": [
           "#636efa",
           "#EF553B",
           "#00cc96",
           "#ab63fa",
           "#FFA15A",
           "#19d3f3",
           "#FF6692",
           "#B6E880",
           "#FF97FF",
           "#FECB52"
          ],
          "font": {
           "color": "#2a3f5f"
          },
          "geo": {
           "bgcolor": "white",
           "lakecolor": "white",
           "landcolor": "#E5ECF6",
           "showlakes": true,
           "showland": true,
           "subunitcolor": "white"
          },
          "hoverlabel": {
           "align": "left"
          },
          "hovermode": "closest",
          "mapbox": {
           "style": "light"
          },
          "paper_bgcolor": "white",
          "plot_bgcolor": "#E5ECF6",
          "polar": {
           "angularaxis": {
            "gridcolor": "white",
            "linecolor": "white",
            "ticks": ""
           },
           "bgcolor": "#E5ECF6",
           "radialaxis": {
            "gridcolor": "white",
            "linecolor": "white",
            "ticks": ""
           }
          },
          "scene": {
           "xaxis": {
            "backgroundcolor": "#E5ECF6",
            "gridcolor": "white",
            "gridwidth": 2,
            "linecolor": "white",
            "showbackground": true,
            "ticks": "",
            "zerolinecolor": "white"
           },
           "yaxis": {
            "backgroundcolor": "#E5ECF6",
            "gridcolor": "white",
            "gridwidth": 2,
            "linecolor": "white",
            "showbackground": true,
            "ticks": "",
            "zerolinecolor": "white"
           },
           "zaxis": {
            "backgroundcolor": "#E5ECF6",
            "gridcolor": "white",
            "gridwidth": 2,
            "linecolor": "white",
            "showbackground": true,
            "ticks": "",
            "zerolinecolor": "white"
           }
          },
          "shapedefaults": {
           "line": {
            "color": "#2a3f5f"
           }
          },
          "ternary": {
           "aaxis": {
            "gridcolor": "white",
            "linecolor": "white",
            "ticks": ""
           },
           "baxis": {
            "gridcolor": "white",
            "linecolor": "white",
            "ticks": ""
           },
           "bgcolor": "#E5ECF6",
           "caxis": {
            "gridcolor": "white",
            "linecolor": "white",
            "ticks": ""
           }
          },
          "title": {
           "x": 0.05
          },
          "xaxis": {
           "automargin": true,
           "gridcolor": "white",
           "linecolor": "white",
           "ticks": "",
           "title": {
            "standoff": 15
           },
           "zerolinecolor": "white",
           "zerolinewidth": 2
          },
          "yaxis": {
           "automargin": true,
           "gridcolor": "white",
           "linecolor": "white",
           "ticks": "",
           "title": {
            "standoff": 15
           },
           "zerolinecolor": "white",
           "zerolinewidth": 2
          }
         }
        },
        "title": {
         "text": "$ln(x)$"
        },
        "xaxis": {
         "autorange": true,
         "range": [
          0.1,
          29.900000000000002
         ],
         "type": "linear"
        },
        "yaxis": {
         "autorange": true,
         "range": [
          -2.6192764026268613,
          3.714549790029457
         ],
         "type": "linear"
        }
       }
      },
      "image/png": "[encoded data removed]",
      "text/html": [
       "<div>\n",
       "        \n",
       "        \n",
       "            <div id=\"a6476d89-0d6d-4724-b9c2-55e595de7af2\" class=\"plotly-graph-div\" style=\"height:525px; width:100%;\"></div>\n",
       "            <script type=\"text/javascript\">\n",
       "                require([\"plotly\"], function(Plotly) {\n",
       "                    window.PLOTLYENV=window.PLOTLYENV || {};\n",
       "                    \n",
       "                if (document.getElementById(\"a6476d89-0d6d-4724-b9c2-55e595de7af2\")) {\n",
       "                    Plotly.newPlot(\n",
       "                        'a6476d89-0d6d-4724-b9c2-55e595de7af2',\n",
       "                        [{\"type\": \"scatter\", \"x\": [0.1, 0.2, 0.30000000000000004, 0.4, 0.5, 0.6, 0.7000000000000001, 0.8, 0.9, 1.0, 1.1, 1.2000000000000002, 1.3000000000000003, 1.4000000000000001, 1.5000000000000002, 1.6, 1.7000000000000002, 1.8000000000000003, 1.9000000000000001, 2.0, 2.1, 2.2, 2.3000000000000003, 2.4000000000000004, 2.5000000000000004, 2.6, 2.7, 2.8000000000000003, 2.9000000000000004, 3.0000000000000004, 3.1, 3.2, 3.3000000000000003, 3.4000000000000004, 3.5000000000000004, 3.6, 3.7, 3.8000000000000003, 3.9000000000000004, 4.0, 4.1, 4.2, 4.3, 4.3999999999999995, 4.5, 4.6, 4.7, 4.8, 4.9, 5.0, 5.1, 5.2, 5.3, 5.4, 5.5, 5.6, 5.7, 5.8, 5.9, 6.0, 6.1, 6.2, 6.3, 6.4, 6.5, 6.6, 6.7, 6.8, 6.9, 7.0, 7.1, 7.2, 7.3, 7.4, 7.5, 7.6, 7.7, 7.8, 7.9, 8.0, 8.1, 8.2, 8.3, 8.4, 8.5, 8.6, 8.7, 8.8, 8.9, 9.0, 9.1, 9.2, 9.3, 9.4, 9.5, 9.6, 9.700000000000001, 9.8, 9.9, 10.0, 10.1, 10.200000000000001, 10.3, 10.4, 10.5, 10.6, 10.700000000000001, 10.8, 10.9, 11.0, 11.1, 11.200000000000001, 11.3, 11.4, 11.5, 11.6, 11.700000000000001, 11.8, 11.9, 12.0, 12.1, 12.200000000000001, 12.3, 12.4, 12.5, 12.6, 12.700000000000001, 12.8, 12.9, 13.0, 13.1, 13.200000000000001, 13.3, 13.4, 13.5, 13.6, 13.700000000000001, 13.8, 13.9, 14.0, 14.1, 14.200000000000001, 14.3, 14.4, 14.5, 14.6, 14.700000000000001, 14.8, 14.9, 15.0, 15.1, 15.200000000000001, 15.3, 15.4, 15.5, 15.6, 15.700000000000001, 15.8, 15.9, 16.0, 16.1, 16.200000000000003, 16.3, 16.400000000000002, 16.500000000000004, 16.6, 16.700000000000003, 16.8, 16.900000000000002, 17.000000000000004, 17.1, 17.200000000000003, 17.3, 17.400000000000002, 17.500000000000004, 17.6, 17.700000000000003, 17.8, 17.900000000000002, 18.000000000000004, 18.1, 18.200000000000003, 18.3, 18.400000000000002, 18.500000000000004, 18.6, 18.700000000000003, 18.8, 18.900000000000002, 19.000000000000004, 19.1, 19.200000000000003, 19.300000000000004, 19.400000000000002, 19.500000000000004, 19.6, 19.700000000000003, 19.800000000000004, 19.900000000000002, 20.000000000000004, 20.1, 20.200000000000003, 20.300000000000004, 20.400000000000002, 20.500000000000004, 20.6, 20.700000000000003, 20.800000000000004, 20.900000000000002, 21.000000000000004, 21.1, 21.200000000000003, 21.300000000000004, 21.400000000000002, 21.500000000000004, 21.6, 21.700000000000003, 21.800000000000004, 21.900000000000002, 22.000000000000004, 22.1, 22.200000000000003, 22.300000000000004, 22.400000000000002, 22.500000000000004, 22.6, 22.700000000000003, 22.800000000000004, 22.900000000000002, 23.000000000000004, 23.1, 23.200000000000003, 23.300000000000004, 23.400000000000002, 23.500000000000004, 23.6, 23.700000000000003, 23.800000000000004, 23.900000000000002, 24.000000000000004, 24.1, 24.200000000000003, 24.300000000000004, 24.400000000000002, 24.500000000000004, 24.6, 24.700000000000003, 24.800000000000004, 24.900000000000002, 25.000000000000004, 25.1, 25.200000000000003, 25.300000000000004, 25.400000000000002, 25.500000000000004, 25.6, 25.700000000000003, 25.800000000000004, 25.900000000000002, 26.000000000000004, 26.1, 26.200000000000003, 26.300000000000004, 26.400000000000002, 26.500000000000004, 26.6, 26.700000000000003, 26.800000000000004, 26.900000000000002, 27.000000000000004, 27.1, 27.200000000000003, 27.300000000000004, 27.400000000000002, 27.500000000000004, 27.6, 27.700000000000003, 27.800000000000004, 27.900000000000002, 28.000000000000004, 28.1, 28.200000000000003, 28.300000000000004, 28.400000000000002, 28.500000000000004, 28.6, 28.700000000000003, 28.800000000000004, 28.900000000000002, 29.000000000000004, 29.1, 29.200000000000003, 29.300000000000004, 29.400000000000002, 29.500000000000004, 29.6, 29.700000000000003, 29.800000000000004, 29.900000000000002], \"y\": [-2.3025850929940455, -1.6094379124341003, -1.203972804325936, -0.916290731874155, -0.6931471805599453, -0.5108256237659907, -0.3566749439387323, -0.2231435513142097, -0.10536051565782628, 0.0, 0.09531017980432493, 0.1823215567939548, 0.2623642644674913, 0.336472236621213, 0.40546510810816455, 0.47000362924573563, 0.5306282510621705, 0.5877866649021192, 0.6418538861723948, 0.6931471805599453, 0.7419373447293773, 0.7884573603642703, 0.8329091229351041, 0.8754687373539001, 0.9162907318741552, 0.9555114450274363, 0.9932517730102834, 1.0296194171811583, 1.0647107369924285, 1.0986122886681098, 1.1314021114911006, 1.1631508098056809, 1.1939224684724346, 1.2237754316221159, 1.252762968495368, 1.2809338454620642, 1.308332819650179, 1.3350010667323402, 1.3609765531356008, 1.3862943611198906, 1.410986973710262, 1.4350845252893227, 1.4586150226995167, 1.4816045409242153, 1.5040773967762742, 1.5260563034950492, 1.547562508716013, 1.5686159179138452, 1.589235205116581, 1.6094379124341003, 1.62924053973028, 1.6486586255873816, 1.667706820558076, 1.6863989535702288, 1.7047480922384253, 1.7227665977411035, 1.7404661748405046, 1.7578579175523736, 1.7749523509116738, 1.791759469228055, 1.8082887711792655, 1.824549292051046, 1.840549633397487, 1.8562979903656263, 1.8718021769015913, 1.8870696490323797, 1.9021075263969205, 1.916922612182061, 1.9315214116032138, 1.9459101490553132, 1.9600947840472698, 1.9740810260220096, 1.9878743481543455, 2.0014800002101243, 2.0149030205422647, 2.028148247292285, 2.0412203288596382, 2.0541237336955462, 2.066862759472976, 2.0794415416798357, 2.0918640616783932, 2.1041341542702074, 2.1162555148025524, 2.128231705849268, 2.1400661634962708, 2.151762203259462, 2.163323025660538, 2.174751721484161, 2.186051276738094, 2.1972245773362196, 2.2082744135228043, 2.2192034840549946, 2.2300144001592104, 2.2407096892759584, 2.2512917986064953, 2.2617630984737906, 2.2721258855093374, 2.2823823856765264, 2.2925347571405443, 2.302585092994046, 2.312535423847214, 2.3223877202902257, 2.33214389523559, 2.341805806147327, 2.3513752571634776, 2.3608540011180215, 2.3702437414678608, 2.379546134130174, 2.388762789235098, 2.3978952727983707, 2.4069451083182885, 2.415913778301049, 2.424802725718295, 2.4336133554004498, 2.4423470353692043, 2.451005098112319, 2.4595888418037104, 2.468099531471619, 2.4765384001174837, 2.4849066497880004, 2.4932054526026954, 2.501435951739211, 2.509599262378372, 2.517696472610991, 2.5257286443082556, 2.533696813957432, 2.5416019934645457, 2.5494451709255714, 2.5572273113676265, 2.5649493574615367, 2.5726122302071057, 2.580216829592325, 2.5877640352277083, 2.5952547069568657, 2.6026896854443837, 2.6100697927420065, 2.617395832834079, 2.624668592163159, 2.631888840136646, 2.6390573296152584, 2.6461747973841225, 2.653241964607215, 2.6602595372658615, 2.667228206581955, 2.6741486494265287, 2.681021528714291, 2.6878474937846906, 2.6946271807700692, 2.7013612129514133, 2.70805020110221, 2.714694743820879, 2.7212954278522306, 2.72785282839839, 2.7343675094195836, 2.740840023925201, 2.747270914255491, 2.7536607123542622, 2.760009940032921, 2.766319109226186, 2.772588722239781, 2.7788192719904172, 2.7850112422383386, 2.791165107812717, 2.797281334830153, 2.8033603809065353, 2.8094026953624978, 2.8154087194227095, 2.8213788864092133, 2.827313621929028, 2.833213344056216, 2.8390784635086144, 2.8449093838194077, 2.8507065015037334, 2.8564702062204836, 2.8622008809294686, 2.8678989020441064, 2.873564639579784, 2.8791984572980396, 2.8848007128467095, 2.890371757896165, 2.89591193827178, 2.9014215940827497, 2.9069010598473755, 2.91235066461494, 2.9177707320842794, 2.9231615807191558, 2.928523523860541, 2.9338568698359038, 2.9391619220655967, 2.9444389791664407, 2.9496883350525844, 2.954910279033736, 2.96010509591084, 2.9652730660692828, 2.9704144655697013, 2.975529566236472, 2.980618635743943, 2.9856819377004897, 2.990719731730447, 2.9957322735539913, 3.0007198150650303, 3.005682604407159, 3.0106208860477417, 3.0155349008501706, 3.0204248861443626, 3.0252910757955354, 3.0301337002713233, 3.0349529867072724, 3.0397491589707655, 3.044522437723423, 3.0492730404820207, 3.054001181677967, 3.0587070727153796, 3.0633909220278057, 3.0680529351336174, 3.0726933146901194, 3.077312260546414, 3.0819099697950434, 3.086486636822455, 3.091042453358316, 3.095577608523707, 3.100092288878234, 3.1045866784660734, 3.109060958860994, 3.1135153092103747, 3.1179499062782403, 3.122364924487357, 3.126760535960395, 3.131136910560194, 3.1354942159291497, 3.139832617527748, 3.1441522786722644, 3.148453360571655, 3.152736022363656, 3.1570004211501135, 3.1612467120315646, 3.1654750481410856, 3.169685580677429, 3.173878458937465, 3.1780538303479458, 3.1822118404966093, 3.186352633162641, 3.190476350346503, 3.1945831322991562, 3.1986731175506815, 3.202746442938317, 3.2068032436339315, 3.2108436531709366, 3.214867803470662, 3.218875824868201, 3.2228678461377385, 3.226843994517378, 3.230804395733475, 3.234749174024491, 3.2386784521643808, 3.242592351485517, 3.246490991901174, 3.250374491927572, 3.2542429687054923, 3.258096538021482, 3.261935314328648, 3.265759410767051, 3.269568939183719, 3.2733640101522705, 3.2771447329921766, 3.2809112157876537, 3.2846635654062037, 3.288401887516811, 3.2921262866077936, 3.295836866004329, 3.299533727885655, 3.303216973301952, 3.3068867021909143, 3.3105430133940246, 3.3141860046725258, 3.3178157727231046, 3.321432413193293, 3.3250360206965914, 3.32862668882732, 3.3322045101752042, 3.3357695763397, 3.339321977944068, 3.3428618046491922, 3.3463891451671604, 3.349904087274605, 3.353406717825807, 3.3568971227655755, 3.3603753871419, 3.3638415951183864, 3.367295829986474, 3.370738174177447, 3.3741687092742363, 3.3775875160230218, 3.380994674344636, 3.3843902633457743, 3.3877743613300146, 3.391147045808654, 3.3945083935113587, 3.397858480396641]}],\n",
       "                        {\"template\": {\"data\": {\"bar\": [{\"error_x\": {\"color\": \"#2a3f5f\"}, \"error_y\": {\"color\": \"#2a3f5f\"}, \"marker\": {\"line\": {\"color\": \"#E5ECF6\", \"width\": 0.5}}, \"type\": \"bar\"}], \"barpolar\": [{\"marker\": {\"line\": {\"color\": \"#E5ECF6\", \"width\": 0.5}}, \"type\": \"barpolar\"}], \"carpet\": [{\"aaxis\": {\"endlinecolor\": \"#2a3f5f\", \"gridcolor\": \"white\", \"linecolor\": \"white\", \"minorgridcolor\": \"white\", \"startlinecolor\": \"#2a3f5f\"}, \"baxis\": {\"endlinecolor\": \"#2a3f5f\", \"gridcolor\": \"white\", \"linecolor\": \"white\", \"minorgridcolor\": \"white\", \"startlinecolor\": \"#2a3f5f\"}, \"type\": \"carpet\"}], \"choropleth\": [{\"colorbar\": {\"outlinewidth\": 0, \"ticks\": \"\"}, \"type\": \"choropleth\"}], \"contour\": [{\"colorbar\": {\"outlinewidth\": 0, \"ticks\": \"\"}, \"colorscale\": [[0.0, \"#0d0887\"], [0.1111111111111111, \"#46039f\"], [0.2222222222222222, \"#7201a8\"], [0.3333333333333333, \"#9c179e\"], [0.4444444444444444, \"#bd3786\"], [0.5555555555555556, \"#d8576b\"], [0.6666666666666666, \"#ed7953\"], [0.7777777777777778, \"#fb9f3a\"], [0.8888888888888888, \"#fdca26\"], [1.0, \"#f0f921\"]], \"type\": \"contour\"}], \"contourcarpet\": [{\"colorbar\": {\"outlinewidth\": 0, \"ticks\": \"\"}, \"type\": \"contourcarpet\"}], \"heatmap\": [{\"colorbar\": {\"outlinewidth\": 0, \"ticks\": \"\"}, \"colorscale\": [[0.0, \"#0d0887\"], [0.1111111111111111, \"#46039f\"], [0.2222222222222222, \"#7201a8\"], [0.3333333333333333, \"#9c179e\"], [0.4444444444444444, \"#bd3786\"], [0.5555555555555556, \"#d8576b\"], [0.6666666666666666, \"#ed7953\"], [0.7777777777777778, \"#fb9f3a\"], [0.8888888888888888, \"#fdca26\"], [1.0, \"#f0f921\"]], \"type\": \"heatmap\"}], \"heatmapgl\": [{\"colorbar\": {\"outlinewidth\": 0, \"ticks\": \"\"}, \"colorscale\": [[0.0, \"#0d0887\"], [0.1111111111111111, \"#46039f\"], [0.2222222222222222, \"#7201a8\"], [0.3333333333333333, \"#9c179e\"], [0.4444444444444444, \"#bd3786\"], [0.5555555555555556, \"#d8576b\"], [0.6666666666666666, \"#ed7953\"], [0.7777777777777778, \"#fb9f3a\"], [0.8888888888888888, \"#fdca26\"], [1.0, \"#f0f921\"]], \"type\": \"heatmapgl\"}], \"histogram\": [{\"marker\": {\"colorbar\": {\"outlinewidth\": 0, \"ticks\": \"\"}}, \"type\": \"histogram\"}], \"histogram2d\": [{\"colorbar\": {\"outlinewidth\": 0, \"ticks\": \"\"}, \"colorscale\": [[0.0, \"#0d0887\"], [0.1111111111111111, \"#46039f\"], [0.2222222222222222, \"#7201a8\"], [0.3333333333333333, \"#9c179e\"], [0.4444444444444444, \"#bd3786\"], [0.5555555555555556, \"#d8576b\"], [0.6666666666666666, \"#ed7953\"], [0.7777777777777778, \"#fb9f3a\"], [0.8888888888888888, \"#fdca26\"], [1.0, \"#f0f921\"]], \"type\": \"histogram2d\"}], \"histogram2dcontour\": [{\"colorbar\": {\"outlinewidth\": 0, \"ticks\": \"\"}, \"colorscale\": [[0.0, \"#0d0887\"], [0.1111111111111111, \"#46039f\"], [0.2222222222222222, \"#7201a8\"], [0.3333333333333333, \"#9c179e\"], [0.4444444444444444, \"#bd3786\"], [0.5555555555555556, \"#d8576b\"], [0.6666666666666666, \"#ed7953\"], [0.7777777777777778, \"#fb9f3a\"], [0.8888888888888888, \"#fdca26\"], [1.0, \"#f0f921\"]], \"type\": \"histogram2dcontour\"}], \"mesh3d\": [{\"colorbar\": {\"outlinewidth\": 0, \"ticks\": \"\"}, \"type\": \"mesh3d\"}], \"parcoords\": [{\"line\": {\"colorbar\": {\"outlinewidth\": 0, \"ticks\": \"\"}}, \"type\": \"parcoords\"}], \"pie\": [{\"automargin\": true, \"type\": \"pie\"}], \"scatter\": [{\"marker\": {\"colorbar\": {\"outlinewidth\": 0, \"ticks\": \"\"}}, \"type\": \"scatter\"}], \"scatter3d\": [{\"line\": {\"colorbar\": {\"outlinewidth\": 0, \"ticks\": \"\"}}, \"marker\": {\"colorbar\": {\"outlinewidth\": 0, \"ticks\": \"\"}}, \"type\": \"scatter3d\"}], \"scattercarpet\": [{\"marker\": {\"colorbar\": {\"outlinewidth\": 0, \"ticks\": \"\"}}, \"type\": \"scattercarpet\"}], \"scattergeo\": [{\"marker\": {\"colorbar\": {\"outlinewidth\": 0, \"ticks\": \"\"}}, \"type\": \"scattergeo\"}], \"scattergl\": [{\"marker\": {\"colorbar\": {\"outlinewidth\": 0, \"ticks\": \"\"}}, \"type\": \"scattergl\"}], \"scattermapbox\": [{\"marker\": {\"colorbar\": {\"outlinewidth\": 0, \"ticks\": \"\"}}, \"type\": \"scattermapbox\"}], \"scatterpolar\": [{\"marker\": {\"colorbar\": {\"outlinewidth\": 0, \"ticks\": \"\"}}, \"type\": \"scatterpolar\"}], \"scatterpolargl\": [{\"marker\": {\"colorbar\": {\"outlinewidth\": 0, \"ticks\": \"\"}}, \"type\": \"scatterpolargl\"}], \"scatterternary\": [{\"marker\": {\"colorbar\": {\"outlinewidth\": 0, \"ticks\": \"\"}}, \"type\": \"scatterternary\"}], \"surface\": [{\"colorbar\": {\"outlinewidth\": 0, \"ticks\": \"\"}, \"colorscale\": [[0.0, \"#0d0887\"], [0.1111111111111111, \"#46039f\"], [0.2222222222222222, \"#7201a8\"], [0.3333333333333333, \"#9c179e\"], [0.4444444444444444, \"#bd3786\"], [0.5555555555555556, \"#d8576b\"], [0.6666666666666666, \"#ed7953\"], [0.7777777777777778, \"#fb9f3a\"], [0.8888888888888888, \"#fdca26\"], [1.0, \"#f0f921\"]], \"type\": \"surface\"}], \"table\": [{\"cells\": {\"fill\": {\"color\": \"#EBF0F8\"}, \"line\": {\"color\": \"white\"}}, \"header\": {\"fill\": {\"color\": \"#C8D4E3\"}, \"line\": {\"color\": \"white\"}}, \"type\": \"table\"}]}, \"layout\": {\"annotationdefaults\": {\"arrowcolor\": \"#2a3f5f\", \"arrowhead\": 0, \"arrowwidth\": 1}, \"coloraxis\": {\"colorbar\": {\"outlinewidth\": 0, \"ticks\": \"\"}}, \"colorscale\": {\"diverging\": [[0, \"#8e0152\"], [0.1, \"#c51b7d\"], [0.2, \"#de77ae\"], [0.3, \"#f1b6da\"], [0.4, \"#fde0ef\"], [0.5, \"#f7f7f7\"], [0.6, \"#e6f5d0\"], [0.7, \"#b8e186\"], [0.8, \"#7fbc41\"], [0.9, \"#4d9221\"], [1, \"#276419\"]], \"sequential\": [[0.0, \"#0d0887\"], [0.1111111111111111, \"#46039f\"], [0.2222222222222222, \"#7201a8\"], [0.3333333333333333, \"#9c179e\"], [0.4444444444444444, \"#bd3786\"], [0.5555555555555556, \"#d8576b\"], [0.6666666666666666, \"#ed7953\"], [0.7777777777777778, \"#fb9f3a\"], [0.8888888888888888, \"#fdca26\"], [1.0, \"#f0f921\"]], \"sequentialminus\": [[0.0, \"#0d0887\"], [0.1111111111111111, \"#46039f\"], [0.2222222222222222, \"#7201a8\"], [0.3333333333333333, \"#9c179e\"], [0.4444444444444444, \"#bd3786\"], [0.5555555555555556, \"#d8576b\"], [0.6666666666666666, \"#ed7953\"], [0.7777777777777778, \"#fb9f3a\"], [0.8888888888888888, \"#fdca26\"], [1.0, \"#f0f921\"]]}, \"colorway\": [\"#636efa\", \"#EF553B\", \"#00cc96\", \"#ab63fa\", \"#FFA15A\", \"#19d3f3\", \"#FF6692\", \"#B6E880\", \"#FF97FF\", \"#FECB52\"], \"font\": {\"color\": \"#2a3f5f\"}, \"geo\": {\"bgcolor\": \"white\", \"lakecolor\": \"white\", \"landcolor\": \"#E5ECF6\", \"showlakes\": true, \"showland\": true, \"subunitcolor\": \"white\"}, \"hoverlabel\": {\"align\": \"left\"}, \"hovermode\": \"closest\", \"mapbox\": {\"style\": \"light\"}, \"paper_bgcolor\": \"white\", \"plot_bgcolor\": \"#E5ECF6\", \"polar\": {\"angularaxis\": {\"gridcolor\": \"white\", \"linecolor\": \"white\", \"ticks\": \"\"}, \"bgcolor\": \"#E5ECF6\", \"radialaxis\": {\"gridcolor\": \"white\", \"linecolor\": \"white\", \"ticks\": \"\"}}, \"scene\": {\"xaxis\": {\"backgroundcolor\": \"#E5ECF6\", \"gridcolor\": \"white\", \"gridwidth\": 2, \"linecolor\": \"white\", \"showbackground\": true, \"ticks\": \"\", \"zerolinecolor\": \"white\"}, \"yaxis\": {\"backgroundcolor\": \"#E5ECF6\", \"gridcolor\": \"white\", \"gridwidth\": 2, \"linecolor\": \"white\", \"showbackground\": true, \"ticks\": \"\", \"zerolinecolor\": \"white\"}, \"zaxis\": {\"backgroundcolor\": \"#E5ECF6\", \"gridcolor\": \"white\", \"gridwidth\": 2, \"linecolor\": \"white\", \"showbackground\": true, \"ticks\": \"\", \"zerolinecolor\": \"white\"}}, \"shapedefaults\": {\"line\": {\"color\": \"#2a3f5f\"}}, \"ternary\": {\"aaxis\": {\"gridcolor\": \"white\", \"linecolor\": \"white\", \"ticks\": \"\"}, \"baxis\": {\"gridcolor\": \"white\", \"linecolor\": \"white\", \"ticks\": \"\"}, \"bgcolor\": \"#E5ECF6\", \"caxis\": {\"gridcolor\": \"white\", \"linecolor\": \"white\", \"ticks\": \"\"}}, \"title\": {\"x\": 0.05}, \"xaxis\": {\"automargin\": true, \"gridcolor\": \"white\", \"linecolor\": \"white\", \"ticks\": \"\", \"title\": {\"standoff\": 15}, \"zerolinecolor\": \"white\", \"zerolinewidth\": 2}, \"yaxis\": {\"automargin\": true, \"gridcolor\": \"white\", \"linecolor\": \"white\", \"ticks\": \"\", \"title\": {\"standoff\": 15}, \"zerolinecolor\": \"white\", \"zerolinewidth\": 2}}}, \"title\": {\"text\": \"$ln(x)$\"}},\n",
       "                        {\"responsive\": true}\n",
       "                    ).then(function(){\n",
       "                            \n",
       "var gd = document.getElementById('a6476d89-0d6d-4724-b9c2-55e595de7af2');\n",
       "var x = new MutationObserver(function (mutations, observer) {{\n",
       "        var display = window.getComputedStyle(gd).display;\n",
       "        if (!display || display === 'none') {{\n",
       "            console.log([gd, 'removed!']);\n",
       "            Plotly.purge(gd);\n",
       "            observer.disconnect();\n",
       "        }}\n",
       "}});\n",
       "\n",
       "// Listen for the removal of the full notebook cells\n",
       "var notebookContainer = gd.closest('#notebook-container');\n",
       "if (notebookContainer) {{\n",
       "    x.observe(notebookContainer, {childList: true});\n",
       "}}\n",
       "\n",
       "// Listen for the clearing of the current output cell\n",
       "var outputEl = gd.closest('.output');\n",
       "if (outputEl) {{\n",
       "    x.observe(outputEl, {childList: true});\n",
       "}}\n",
       "\n",
       "                        })\n",
       "                };\n",
       "                });\n",
       "            </script>\n",
       "        </div>"
      ]
     },
     "metadata": {},
     "output_type": "display_data"
    }
   ],
   "source": [
    "import plotly.graph_objects as go\n",
    "\n",
    "scatter = go.Scatter(x = x_vals, y = log_x)\n",
    "go.Figure(scatter, {'title': '$ln(x)$'})"
   ]
  },
  {
   "cell_type": "markdown",
   "metadata": {},
   "source": [
    "The key components to take away from the above is that as $x$ increases, $y$ also increases.  In other words, \n",
    "\n",
    "* if $ a > b $, then $ln(a) > ln(b) $.\n"
   ]
  },
  {
   "cell_type": "markdown",
   "metadata": {},
   "source": [
    "* However as we note, as our value $x$ increases, $ln(x)$ tends to plateau.  \n",
    "* Finally, as x approaches 0, the natural $ln(x)$ approaches negative infinity."
   ]
  },
  {
   "cell_type": "markdown",
   "metadata": {},
   "source": [
    "### The log: Why we care"
   ]
  },
  {
   "cell_type": "markdown",
   "metadata": {},
   "source": [
    "In the lessons that follow, we'll make use of the log.  The reason is that applying the log to a function can simplify the math.  Here are some properties of the log that help equations easier:"
   ]
  },
  {
   "cell_type": "markdown",
   "metadata": {},
   "source": [
    "$log(ab) = log(a) + log(b)$"
   ]
  },
  {
   "cell_type": "markdown",
   "metadata": {},
   "source": [
    "> So applying the log to a product, allows us to use addition."
   ]
  },
  {
   "cell_type": "markdown",
   "metadata": {},
   "source": [
    "$log(a^b) = b* log (a)$"
   ]
  },
  {
   "cell_type": "markdown",
   "metadata": {},
   "source": [
    "> Applying the log to an exponent reduces our problem to a product."
   ]
  },
  {
   "cell_type": "markdown",
   "metadata": {},
   "source": [
    "And the derivative of the log isn't so bad either."
   ]
  },
  {
   "cell_type": "markdown",
   "metadata": {},
   "source": [
    "$f(x) = log(x)$, then \n",
    "\n",
    "$f'(x) = \\frac{1}{x}$"
   ]
  },
  {
   "cell_type": "markdown",
   "metadata": {},
   "source": [
    "Notice that as $x$ gets larger the $log(x)$ increases.  It's just that as $x$ increases the $log x$ increases at a lower rate."
   ]
  },
  {
   "cell_type": "markdown",
   "metadata": {},
   "source": [
    "### Summary"
   ]
  },
  {
   "cell_type": "markdown",
   "metadata": {},
   "source": [
    "In this lesson we reviewed some properties of the log.  "
   ]
  }
 ],
 "metadata": {
  "kernelspec": {
   "display_name": "Python 3",
   "language": "python",
   "name": "python3"
  },
  "language_info": {
   "codemirror_mode": {
    "name": "ipython",
    "version": 3
   },
   "file_extension": ".py",
   "mimetype": "text/x-python",
   "name": "python",
   "nbconvert_exporter": "python",
   "pygments_lexer": "ipython3",
   "version": "3.7.4"
  }
 },
 "nbformat": 4,
 "nbformat_minor": 4
}
