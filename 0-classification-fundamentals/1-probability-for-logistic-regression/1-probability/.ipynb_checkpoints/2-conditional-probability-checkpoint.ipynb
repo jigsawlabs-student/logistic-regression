{
 "cells": [
  {
   "cell_type": "markdown",
   "metadata": {},
   "source": [
    "# Conditional Probability "
   ]
  },
  {
   "cell_type": "markdown",
   "metadata": {},
   "source": [
    "### Introduction"
   ]
  },
  {
   "cell_type": "markdown",
   "metadata": {},
   "source": [
    "In the last lesson, we saw some of the fundamental rules of probability.  And learned that we can define the probability of an event occurring as the fraction of times the event occurs divided by the number of trials, as we increase the number of trials.  In this lesson, we'll see that the probability of an event is not always fixed.  And we'll learn how we can update our probabilities as we either learn more information, or the state of the world changes."
   ]
  },
  {
   "cell_type": "markdown",
   "metadata": {},
   "source": [
    "### Updating Probabilities"
   ]
  },
  {
   "cell_type": "markdown",
   "metadata": {},
   "source": [
    "Let's return to the scenario of rolling dice, but this time let's roll two six sided die.  We can say that the sample space is of size 36, one for combination of outcomes.  Let's define our event E rolling two dice that add up to five.  What is $P(E)$?"
   ]
  },
  {
   "cell_type": "markdown",
   "metadata": {},
   "source": [
    "Well, first we can define the event space as: $E = \\{(1, 4), (2, 3), (3, 2), (4, 1)\\}$, and then because each of the outcome pairs is equally likely:\n",
    "\n",
    "$P(E) = \\frac{|E|}{|S|} = \\frac{4}{36} = \\frac{1}{9}$"
   ]
  },
  {
   "cell_type": "markdown",
   "metadata": {},
   "source": [
    "> Now let's say that the first die that we roll is the number $2$, now what is the probability that our two dice sum up to 5?"
   ]
  },
  {
   "cell_type": "markdown",
   "metadata": {},
   "source": [
    "To make the calculation, we should reduce first reduce the event space and the event space that are consistent with our information.  So now:  "
   ]
  },
  {
   "cell_type": "markdown",
   "metadata": {},
   "source": [
    "* $S_1  = \\{(2, 1), (2, 2), (2, 3), (2, 4), (2, 5), (2, 6)\\}$\n",
    "\n",
    "And then event space is: \n",
    "* $E_1 = \\{(2, 3)\\}$"
   ]
  },
  {
   "cell_type": "markdown",
   "metadata": {},
   "source": [
    "So now $P(E_1) = \\frac{|S_1|}{|E_1|} = \\frac{1}{6}$."
   ]
  },
  {
   "cell_type": "markdown",
   "metadata": {},
   "source": [
    "What we just saw is an example of conditional probability.  It allowed us to update our probability of an event from $\\frac{1}{9}$ to $\\frac{1}{6}$ now that we knew the first number is a 2."
   ]
  },
  {
   "cell_type": "markdown",
   "metadata": {},
   "source": [
    "### Defining Conditional Probability"
   ]
  },
  {
   "cell_type": "markdown",
   "metadata": {},
   "source": [
    "With conditional probability, we calculate the probability that an event E occurs given that F has already occurred.  We can call this, \"conditioned on F\".  Mathematically, we can denote this as the following:\n",
    "\n",
    "* $P(E|F)$\n",
    "\n",
    "and above we saw that we can calculate this as:\n",
    "\n",
    "* $P(E|F) = \\frac{\\text{num outcomes in E consistent with F}}{\\text{num outcomes in S consistent with F}} $"
   ]
  },
  {
   "cell_type": "markdown",
   "metadata": {},
   "source": [
    "So for example, where we conditioned on the first die roll equalling 2, we then let E be only those events that also had the first die as a 2, (2, 3).  And we let S now be reduced to those outcomes where the first number is a 2, for a total of 6 outcomes.  Another way to write the conditional probability is as the following:"
   ]
  },
  {
   "cell_type": "markdown",
   "metadata": {},
   "source": [
    "$P(E|F)= \\frac{P(EF)}{P(F)}$"
   ]
  },
  {
   "cell_type": "markdown",
   "metadata": {},
   "source": [
    "We can read this as, the probability that E given F occurs, is the probability that E and F occurs, divided by the probability that F occurs."
   ]
  },
  {
   "cell_type": "markdown",
   "metadata": {},
   "source": [
    "Applied to our example above, $P(F) = \\frac{1}{6}$, and the $P(EF) = \\frac{1}{36}$, so plugging the two numebrs into our formula, we get:"
   ]
  },
  {
   "cell_type": "code",
   "execution_count": 4,
   "metadata": {},
   "outputs": [
    {
     "data": {
      "text/plain": [
       "0.16666666666666666"
      ]
     },
     "execution_count": 4,
     "metadata": {},
     "output_type": "execute_result"
    }
   ],
   "source": [
    "(1/36)/(1/6)"
   ]
  },
  {
   "cell_type": "markdown",
   "metadata": {},
   "source": [
    "Which is $\\frac{1}{6}$."
   ]
  },
  {
   "cell_type": "markdown",
   "metadata": {},
   "source": [
    "One other rule we can derive from our definition of conditional probability is the  chain rule:"
   ]
  },
  {
   "cell_type": "markdown",
   "metadata": {},
   "source": [
    "* $P(EF) = P(F)*P(E|F)$ \n",
    "\n",
    "> This just says that the probability of both E and F happening is the probability of F happening, times the probability E occurs given F occurs."
   ]
  },
  {
   "cell_type": "markdown",
   "metadata": {},
   "source": [
    "Notice, that we can get there by taking our definition of conditional probability and solving for $P(EF)$:"
   ]
  },
  {
   "cell_type": "markdown",
   "metadata": {},
   "source": [
    "* $P(E|F)= \\frac{P(EF)}{P(F)} $\n",
    "* $P(F)*P(E|F) = P(EF)$"
   ]
  },
  {
   "cell_type": "markdown",
   "metadata": {},
   "source": [
    "So if we want to find the probability that two events occur, it's just the probability that the first event occurs, times the probability the second event occurs, given the first event occurs.m"
   ]
  },
  {
   "cell_type": "markdown",
   "metadata": {},
   "source": [
    "### Independence"
   ]
  },
  {
   "cell_type": "markdown",
   "metadata": {},
   "source": [
    "If $P(EF) = P(E)P(F)$, then\n",
    "\n",
    "Note that this is a mathematical principle.  So for example, we can use our dice rolling example, of the probability of rolling a die roll on the first and second time are independent."
   ]
  },
  {
   "cell_type": "markdown",
   "metadata": {},
   "source": [
    "### Summary"
   ]
  },
  {
   "cell_type": "markdown",
   "metadata": {},
   "source": [
    "Probability that you like Finding Nemo, given that you've watched and liked Zootopia."
   ]
  },
  {
   "cell_type": "markdown",
   "metadata": {},
   "source": [
    "### Resources\n",
    "[Problem Set Answers](https://github.com/AndreeaMusat/Stanford-CS109-Probability-for-computer-scientists/blob/master/assignment_2/problem_set_2_sol.pdf)"
   ]
  },
  {
   "cell_type": "markdown",
   "metadata": {},
   "source": [
    "[Problem Set Questions](http://web.stanford.edu/class/cs109/psets/pset2.pdf)"
   ]
  }
 ],
 "metadata": {
  "kernelspec": {
   "display_name": "Python 3",
   "language": "python",
   "name": "python3"
  },
  "language_info": {
   "codemirror_mode": {
    "name": "ipython",
    "version": 3
   },
   "file_extension": ".py",
   "mimetype": "text/x-python",
   "name": "python",
   "nbconvert_exporter": "python",
   "pygments_lexer": "ipython3",
   "version": "3.7.4"
  }
 },
 "nbformat": 4,
 "nbformat_minor": 4
}
