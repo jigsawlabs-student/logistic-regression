{
 "cells": [
  {
   "cell_type": "markdown",
   "metadata": {},
   "source": [
    "### Independence Example"
   ]
  },
  {
   "cell_type": "markdown",
   "metadata": {},
   "source": [
    "1. Independence"
   ]
  },
  {
   "cell_type": "markdown",
   "metadata": {},
   "source": [
    "Before discussing independence, let's start with a case where events are not independent.  Say that we are about to roll two dice, we define the following:\n",
    "\n",
    "* $E$ is event where $D_1 = 1$\n",
    "* $F$ is event where $D_1 + D_2 < 3$"
   ]
  },
  {
   "cell_type": "markdown",
   "metadata": {},
   "source": [
    "Now let's lay out our probabilities:"
   ]
  },
  {
   "cell_type": "markdown",
   "metadata": {},
   "source": [
    "* $P(E) = \\frac{1}{6}$\n",
    "* $P(F) = \\frac{3}{36} = \\frac{1}{12}$\n",
    "* $P(EF) = \\frac{2}{36}$"
   ]
  },
  {
   "cell_type": "markdown",
   "metadata": {},
   "source": [
    "$P(EF) \\neq P(E)*P(F) \\rightarrow \\frac{1}{18} \\gt \\frac{1}{6}*\\frac{1}{12} $"
   ]
  },
  {
   "cell_type": "markdown",
   "metadata": {},
   "source": [
    "2. Now calculate the probabilities using conditional probability\n",
    "\n"
   ]
  },
  {
   "cell_type": "markdown",
   "metadata": {},
   "source": [
    "$P(F|E) =  P(D_1 + D_2 \\leq 3|D_1 = 1)= \\frac{\\{(1, 1), (1, 2) \\}}{{(1, 1), (1, 2), (1, 3), (1, 4), (1, 5), (1, 6) \\}}} = \\frac{1}{3}$"
   ]
  },
  {
   "cell_type": "markdown",
   "metadata": {},
   "source": [
    "$P(EF) = P(E)*P(F|E) = \\frac{1}{18} = \\frac{1}{6}*\\frac{1}{3}$\n",
    "\n"
   ]
  },
  {
   "cell_type": "markdown",
   "metadata": {},
   "source": [
    "> So can see that, where originally, $P(F)  = \\frac{1}{12}$, that $P(F|E) = \\frac{1}{3}$, which changes the probabilities."
   ]
  },
  {
   "cell_type": "markdown",
   "metadata": {},
   "source": [
    "### Examples\n",
    "* Netflix Examples\n",
    "    1. What is probability someone likes Finding Nemo\n",
    "        * Count number of people who watched, divided by number who liked "
   ]
  },
  {
   "cell_type": "markdown",
   "metadata": {},
   "source": [
    "### Resources"
   ]
  },
  {
   "cell_type": "markdown",
   "metadata": {},
   "source": [
    "[Early Examples](https://www.youtube.com/watch?v=bX7iqWlzC0c&list=PLcmJYc2muOR9H96hGlUBV2DkviVZFmHAh&index=4)"
   ]
  }
 ],
 "metadata": {
  "kernelspec": {
   "display_name": "Python 3",
   "language": "python",
   "name": "python3"
  },
  "language_info": {
   "codemirror_mode": {
    "name": "ipython",
    "version": 3
   },
   "file_extension": ".py",
   "mimetype": "text/x-python",
   "name": "python",
   "nbconvert_exporter": "python",
   "pygments_lexer": "ipython3",
   "version": "3.7.4"
  }
 },
 "nbformat": 4,
 "nbformat_minor": 4
}
