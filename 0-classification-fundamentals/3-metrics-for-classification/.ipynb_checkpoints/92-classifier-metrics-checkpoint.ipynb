{
 "cells": [
  {
   "cell_type": "markdown",
   "metadata": {},
   "source": [
    "## Classifier Metrics"
   ]
  },
  {
   "cell_type": "markdown",
   "metadata": {},
   "source": [
    "### Introduction"
   ]
  },
  {
   "cell_type": "markdown",
   "metadata": {},
   "source": [
    "Accuracy = $\\frac{1}{N}\\sum_{i = 1}^n [\\hat{y_i} = y_i]$"
   ]
  },
  {
   "cell_type": "markdown",
   "metadata": {},
   "source": [
    "* How frequently our class predicts the correct score.\n",
    "* How frequently our class prediction is correct\n",
    "\n",
    "* Best constant - predict the most frequent class."
   ]
  },
  {
   "cell_type": "markdown",
   "metadata": {},
   "source": [
    "So if you have 10 cats and 90 dogs, always predict dogs.\n",
    "This is the baseline accuracy.  \n",
    "\n",
    "$LogLoss = \\frac{1}{N} \\sum y_i log(\\hat{y_i}) + (1 - y_i) log(1 - \\hat{y_i})$\n",
    "\n"
   ]
  },
  {
   "cell_type": "markdown",
   "metadata": {},
   "source": [
    "Also accuracy doesn't care how confident it is in the predictions.  "
   ]
  },
  {
   "cell_type": "markdown",
   "metadata": {},
   "source": [
    "* In practice the predictions are clipped, to prevent negative logs."
   ]
  },
  {
   "cell_type": "markdown",
   "metadata": {},
   "source": [
    "LogLoss strongly penalizes wrong answers, and prefers to make lots of small mistakes to one major mistake."
   ]
  },
  {
   "cell_type": "markdown",
   "metadata": {},
   "source": [
    "So then the best prediction for logarithmic loss will be equal to the frequencies, it will be .9 and .1."
   ]
  }
 ],
 "metadata": {
  "kernelspec": {
   "display_name": "Python 3",
   "language": "python",
   "name": "python3"
  },
  "language_info": {
   "codemirror_mode": {
    "name": "ipython",
    "version": 3
   },
   "file_extension": ".py",
   "mimetype": "text/x-python",
   "name": "python",
   "nbconvert_exporter": "python",
   "pygments_lexer": "ipython3",
   "version": "3.7.4"
  }
 },
 "nbformat": 4,
 "nbformat_minor": 4
}
