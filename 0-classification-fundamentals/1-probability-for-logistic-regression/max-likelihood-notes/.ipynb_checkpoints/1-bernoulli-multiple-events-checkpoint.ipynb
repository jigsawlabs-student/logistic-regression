{
 "cells": [
  {
   "cell_type": "markdown",
   "metadata": {},
   "source": [
    "# Bernoulli Multiple Events"
   ]
  },
  {
   "cell_type": "markdown",
   "metadata": {},
   "source": [
    "### Introduction"
   ]
  },
  {
   "cell_type": "markdown",
   "metadata": {},
   "source": [
    "### Predicting An Event Sequence"
   ]
  },
  {
   "cell_type": "markdown",
   "metadata": {},
   "source": [
    "Now instead of predicting the probability of it raining on a particular day, let's find the probability of it raining on the first five of six days throws, given a probability of $.7$ of it raining for each individual day."
   ]
  },
  {
   "cell_type": "code",
   "execution_count": 2,
   "metadata": {},
   "outputs": [
    {
     "data": {
      "text/plain": [
       "0.05042099999999998"
      ]
     },
     "execution_count": 2,
     "metadata": {},
     "output_type": "execute_result"
    }
   ],
   "source": []
  },
  {
   "cell_type": "code",
   "execution_count": 4,
   "metadata": {},
   "outputs": [],
   "source": [
    "events = [1, 1, 1, 1, 1, 0]\n",
    "p = .7"
   ]
  },
  {
   "cell_type": "code",
   "execution_count": 5,
   "metadata": {},
   "outputs": [],
   "source": [
    "def probability_of_events(events, p):\n",
    "    total_prob = 1\n",
    "    for event in events:\n",
    "        if event == 1:\n",
    "            total_prob = total_prob*(p)\n",
    "        if event == 0:\n",
    "            total_prob = total_prob*(1 - p)\n",
    "    return total_prob"
   ]
  },
  {
   "cell_type": "markdown",
   "metadata": {},
   "source": [
    "> In the function above, for each event, we multiply the probability of occurrence if the event occurred, and 1 - p that probability if it did not occur.  Notice that we get the same answer as before."
   ]
  },
  {
   "cell_type": "code",
   "execution_count": 6,
   "metadata": {},
   "outputs": [
    {
     "data": {
      "text/plain": [
       "0.05042099999999999"
      ]
     },
     "execution_count": 6,
     "metadata": {},
     "output_type": "execute_result"
    }
   ],
   "source": [
    "probability_of_events(events, p)"
   ]
  },
  {
   "cell_type": "markdown",
   "metadata": {},
   "source": [
    "### Independent and Identically distributed"
   ]
  },
  {
   "cell_type": "markdown",
   "metadata": {},
   "source": [
    "In finding the probability of a sequence of events, we make a couple of assumptions about the data.\n",
    "\n",
    "1. We assume events are independent\n",
    "\n",
    "The first is that in calculating the probability of rain in a sequence of days, we are assuming that it raining on one day does not affect the probability of it raining on another day.  In other words, the events are **independent**.  When events are independent, knowledge of one event tells us no information of any other event.  "
   ]
  },
  {
   "cell_type": "markdown",
   "metadata": {},
   "source": [
    "2. We assume events are identically distributed\n",
    "\n",
    "Second, we assume that the probability of each event is the same.  This is a common assumption that allow us to simplify the problem of calculating multiple events occurring.  Here, we say that the events are **identically distributed**.  That is, each event adheres to the same random variable $X_i \\sim Ber(.7)$."
   ]
  },
  {
   "cell_type": "markdown",
   "metadata": {},
   "source": [
    "### Finding probability of IID Sequence"
   ]
  },
  {
   "cell_type": "markdown",
   "metadata": {},
   "source": [
    "Notice how we find the probability of a sequence of events occurring.  We do so by multiplying the probability of the first event occurring, times the probability of the second event occurring, and so on.\n",
    "\n",
    "> So for example, above, we found the probability of five makes followed by a miss, by multiplying the probability of each event together. "
   ]
  },
  {
   "cell_type": "code",
   "execution_count": 49,
   "metadata": {},
   "outputs": [
    {
     "data": {
      "text/plain": [
       "0.05042099999999998"
      ]
     },
     "execution_count": 49,
     "metadata": {},
     "output_type": "execute_result"
    }
   ],
   "source": [
    ".7*.7*.7*.7*.7*.3"
   ]
  },
  {
   "cell_type": "markdown",
   "metadata": {},
   "source": [
    "In other words, if X is a set of events, $X = \\{1, 1, 1, 1, 1, 0\\}$, then the probability of these events occurring is: \n",
    "\n",
    "* $p(X) = p(x_1)p(x_2)p(x_3)p(x_4)p(x_5)p(x_6) $"
   ]
  },
  {
   "cell_type": "markdown",
   "metadata": {},
   "source": [
    "And we can rewrite $p(X) = p(x_1)p(x_2)p(x_3)p(x_4)p(x_5)p(x_6)$  as:"
   ]
  },
  {
   "cell_type": "markdown",
   "metadata": {},
   "source": [
    "$p(X) = \\prod_{i = 1}^n p(x)$"
   ]
  },
  {
   "cell_type": "markdown",
   "metadata": {},
   "source": [
    "> So just like we describe a sequence of sums, with the summation symbol, $\\sum$, we can describe a sequence of products, with the product symbols, $\\prod$.  "
   ]
  },
  {
   "cell_type": "markdown",
   "metadata": {},
   "source": [
    "$P(X) = \\prod_{i = 1}^n p(x_i) = \\prod_{i = 1}^n p^{x_i}(1 - p)^{1 - x_i}$"
   ]
  },
  {
   "cell_type": "markdown",
   "metadata": {},
   "source": [
    "### From Bernoulli to Binomial"
   ]
  },
  {
   "cell_type": "code",
   "execution_count": 3,
   "metadata": {},
   "outputs": [
    {
     "data": {
      "text/plain": [
       "0.30252599999999985"
      ]
     },
     "execution_count": 3,
     "metadata": {},
     "output_type": "execute_result"
    }
   ],
   "source": [
    "prob_of_each_seq = .7*.7*.7*.7*.7*.3\n",
    "num_of_sequences = 6\n",
    "num_of_sequences*prob_of_each_seq"
   ]
  },
  {
   "cell_type": "code",
   "execution_count": null,
   "metadata": {},
   "outputs": [],
   "source": []
  },
  {
   "cell_type": "code",
   "execution_count": 5,
   "metadata": {},
   "outputs": [
    {
     "data": {
      "text/plain": [
       "6.0"
      ]
     },
     "execution_count": 5,
     "metadata": {},
     "output_type": "execute_result"
    }
   ],
   "source": [
    "from scipy.special import comb\n",
    "comb(6, 1)"
   ]
  },
  {
   "cell_type": "markdown",
   "metadata": {},
   "source": [
    "${n}\\choose_k $ $\\prod_{i = 1}^n p^{x_i}(1 - p)^{1 - x_i}$"
   ]
  },
  {
   "cell_type": "code",
   "execution_count": 12,
   "metadata": {},
   "outputs": [
    {
     "data": {
      "text/plain": [
       "(10.0, 0.03456)"
      ]
     },
     "execution_count": 12,
     "metadata": {},
     "output_type": "execute_result"
    }
   ],
   "source": [
    "from scipy.special import comb\n",
    "p_sequence = .6*.6*.6*.4*.4\n",
    "n_sequences = comb(5, 3)\n",
    "\n",
    "n_sequences, p_sequence"
   ]
  },
  {
   "cell_type": "code",
   "execution_count": 13,
   "metadata": {},
   "outputs": [
    {
     "data": {
      "text/plain": [
       "0.3456"
      ]
     },
     "execution_count": 13,
     "metadata": {},
     "output_type": "execute_result"
    }
   ],
   "source": [
    "n_sequences*p_sequence"
   ]
  }
 ],
 "metadata": {
  "kernelspec": {
   "display_name": "Python 3",
   "language": "python",
   "name": "python3"
  },
  "language_info": {
   "codemirror_mode": {
    "name": "ipython",
    "version": 3
   },
   "file_extension": ".py",
   "mimetype": "text/x-python",
   "name": "python",
   "nbconvert_exporter": "python",
   "pygments_lexer": "ipython3",
   "version": "3.7.4"
  }
 },
 "nbformat": 4,
 "nbformat_minor": 4
}
