{
 "cells": [
  {
   "cell_type": "markdown",
   "metadata": {},
   "source": [
    "# Precision and Recall Lab"
   ]
  },
  {
   "cell_type": "markdown",
   "metadata": {},
   "source": [
    "### Introduction"
   ]
  },
  {
   "cell_type": "markdown",
   "metadata": {},
   "source": [
    "In this lesson, we'll train a classifier and explore our different metrics for measuring the classifier's performance.  We'll do so by looking at customer churn data from a telecommunications company."
   ]
  },
  {
   "cell_type": "markdown",
   "metadata": {},
   "source": [
    "### Loading our Data"
   ]
  },
  {
   "cell_type": "markdown",
   "metadata": {},
   "source": [
    "Let's begin by loading our data."
   ]
  },
  {
   "cell_type": "code",
   "execution_count": 3,
   "metadata": {},
   "outputs": [],
   "source": [
    "import pandas as pd\n",
    "url = \"https://raw.githubusercontent.com/jigsawlabs-student/logistic-regression/master/0-classification-fundamentals/3-metrics-for-classification/coerced_customer_churn.csv\"\n",
    "df = pd.read_csv(url, index_col = 0)"
   ]
  },
  {
   "cell_type": "markdown",
   "metadata": {},
   "source": [
    "Now let's take a look at our data."
   ]
  },
  {
   "cell_type": "code",
   "execution_count": 4,
   "metadata": {},
   "outputs": [
    {
     "data": {
      "text/html": [
       "<div>\n",
       "<style scoped>\n",
       "    .dataframe tbody tr th:only-of-type {\n",
       "        vertical-align: middle;\n",
       "    }\n",
       "\n",
       "    .dataframe tbody tr th {\n",
       "        vertical-align: top;\n",
       "    }\n",
       "\n",
       "    .dataframe thead th {\n",
       "        text-align: right;\n",
       "    }\n",
       "</style>\n",
       "<table border=\"1\" class=\"dataframe\">\n",
       "  <thead>\n",
       "    <tr style=\"text-align: right;\">\n",
       "      <th></th>\n",
       "      <th>SeniorCitizen</th>\n",
       "      <th>tenure</th>\n",
       "      <th>MonthlyCharges</th>\n",
       "      <th>gender</th>\n",
       "      <th>Partner</th>\n",
       "      <th>Dependents</th>\n",
       "      <th>PhoneService</th>\n",
       "      <th>MultipleLines_x0_No phone service</th>\n",
       "      <th>MultipleLines_x0_Yes</th>\n",
       "      <th>InternetService_x0_Fiber optic</th>\n",
       "      <th>...</th>\n",
       "      <th>StreamingMovies_x0_Yes</th>\n",
       "      <th>Contract_x0_One year</th>\n",
       "      <th>Contract_x0_Two year</th>\n",
       "      <th>PaperlessBilling</th>\n",
       "      <th>PaymentMethod_x0_Credit card (automatic)</th>\n",
       "      <th>PaymentMethod_x0_Electronic check</th>\n",
       "      <th>PaymentMethod_x0_Mailed check</th>\n",
       "      <th>Churn</th>\n",
       "      <th>TotalCharges</th>\n",
       "      <th>TotalCharges_is_na</th>\n",
       "    </tr>\n",
       "  </thead>\n",
       "  <tbody>\n",
       "    <tr>\n",
       "      <th>0</th>\n",
       "      <td>0</td>\n",
       "      <td>1</td>\n",
       "      <td>29.85</td>\n",
       "      <td>0.0</td>\n",
       "      <td>1.0</td>\n",
       "      <td>0.0</td>\n",
       "      <td>0.0</td>\n",
       "      <td>1.0</td>\n",
       "      <td>0.0</td>\n",
       "      <td>0.0</td>\n",
       "      <td>...</td>\n",
       "      <td>0.0</td>\n",
       "      <td>0.0</td>\n",
       "      <td>0.0</td>\n",
       "      <td>1.0</td>\n",
       "      <td>0.0</td>\n",
       "      <td>1.0</td>\n",
       "      <td>0.0</td>\n",
       "      <td>0.0</td>\n",
       "      <td>29.85</td>\n",
       "      <td>False</td>\n",
       "    </tr>\n",
       "    <tr>\n",
       "      <th>1</th>\n",
       "      <td>0</td>\n",
       "      <td>34</td>\n",
       "      <td>56.95</td>\n",
       "      <td>1.0</td>\n",
       "      <td>0.0</td>\n",
       "      <td>0.0</td>\n",
       "      <td>1.0</td>\n",
       "      <td>0.0</td>\n",
       "      <td>0.0</td>\n",
       "      <td>0.0</td>\n",
       "      <td>...</td>\n",
       "      <td>0.0</td>\n",
       "      <td>1.0</td>\n",
       "      <td>0.0</td>\n",
       "      <td>0.0</td>\n",
       "      <td>0.0</td>\n",
       "      <td>0.0</td>\n",
       "      <td>1.0</td>\n",
       "      <td>0.0</td>\n",
       "      <td>1889.50</td>\n",
       "      <td>False</td>\n",
       "    </tr>\n",
       "  </tbody>\n",
       "</table>\n",
       "<p>2 rows × 32 columns</p>\n",
       "</div>"
      ],
      "text/plain": [
       "   SeniorCitizen  tenure  MonthlyCharges  gender  Partner  Dependents  \\\n",
       "0              0       1           29.85     0.0      1.0         0.0   \n",
       "1              0      34           56.95     1.0      0.0         0.0   \n",
       "\n",
       "   PhoneService  MultipleLines_x0_No phone service  MultipleLines_x0_Yes  \\\n",
       "0           0.0                                1.0                   0.0   \n",
       "1           1.0                                0.0                   0.0   \n",
       "\n",
       "   InternetService_x0_Fiber optic  ...  StreamingMovies_x0_Yes  \\\n",
       "0                             0.0  ...                     0.0   \n",
       "1                             0.0  ...                     0.0   \n",
       "\n",
       "   Contract_x0_One year  Contract_x0_Two year  PaperlessBilling  \\\n",
       "0                   0.0                   0.0               1.0   \n",
       "1                   1.0                   0.0               0.0   \n",
       "\n",
       "   PaymentMethod_x0_Credit card (automatic)  \\\n",
       "0                                       0.0   \n",
       "1                                       0.0   \n",
       "\n",
       "   PaymentMethod_x0_Electronic check  PaymentMethod_x0_Mailed check  Churn  \\\n",
       "0                                1.0                            0.0    0.0   \n",
       "1                                0.0                            1.0    0.0   \n",
       "\n",
       "   TotalCharges  TotalCharges_is_na  \n",
       "0         29.85               False  \n",
       "1       1889.50               False  \n",
       "\n",
       "[2 rows x 32 columns]"
      ]
     },
     "execution_count": 4,
     "metadata": {},
     "output_type": "execute_result"
    }
   ],
   "source": [
    "df[:2]"
   ]
  },
  {
   "cell_type": "markdown",
   "metadata": {},
   "source": [
    "As we can can see, our data has already been formatted so that we can train a model.  Let's get to it.  Assign column everything but `Churn` to the variable X, and assign Churn to y as the target."
   ]
  },
  {
   "cell_type": "code",
   "execution_count": 5,
   "metadata": {},
   "outputs": [],
   "source": [
    "X = df.drop('Churn', axis = 1)\n",
    "y = df['Churn']"
   ]
  },
  {
   "cell_type": "code",
   "execution_count": 6,
   "metadata": {},
   "outputs": [
    {
     "data": {
      "text/plain": [
       "((7043, 31), (7043,))"
      ]
     },
     "execution_count": 6,
     "metadata": {},
     "output_type": "execute_result"
    }
   ],
   "source": [
    "X.shape, y.shape\n",
    "\n",
    "# ((7043, 31), (7043,))"
   ]
  },
  {
   "cell_type": "markdown",
   "metadata": {},
   "source": [
    "Now scale the X data, and place the scaled data in a dataframe with the appropriate columns."
   ]
  },
  {
   "cell_type": "code",
   "execution_count": 10,
   "metadata": {},
   "outputs": [],
   "source": [
    "from sklearn.preprocessing import StandardScaler\n",
    "scaler = StandardScaler()\n",
    "\n",
    "X_scaled = scaler.fit_transform(X)\n",
    "\n",
    "X_scaled_df = pd.DataFrame(X_scaled, columns = X.columns) "
   ]
  },
  {
   "cell_type": "code",
   "execution_count": 12,
   "metadata": {},
   "outputs": [
    {
     "data": {
      "text/html": [
       "<div>\n",
       "<style scoped>\n",
       "    .dataframe tbody tr th:only-of-type {\n",
       "        vertical-align: middle;\n",
       "    }\n",
       "\n",
       "    .dataframe tbody tr th {\n",
       "        vertical-align: top;\n",
       "    }\n",
       "\n",
       "    .dataframe thead th {\n",
       "        text-align: right;\n",
       "    }\n",
       "</style>\n",
       "<table border=\"1\" class=\"dataframe\">\n",
       "  <thead>\n",
       "    <tr style=\"text-align: right;\">\n",
       "      <th></th>\n",
       "      <th>SeniorCitizen</th>\n",
       "      <th>tenure</th>\n",
       "      <th>MonthlyCharges</th>\n",
       "      <th>gender</th>\n",
       "      <th>Partner</th>\n",
       "      <th>Dependents</th>\n",
       "      <th>PhoneService</th>\n",
       "      <th>MultipleLines_x0_No phone service</th>\n",
       "      <th>MultipleLines_x0_Yes</th>\n",
       "      <th>InternetService_x0_Fiber optic</th>\n",
       "      <th>...</th>\n",
       "      <th>StreamingMovies_x0_No internet service</th>\n",
       "      <th>StreamingMovies_x0_Yes</th>\n",
       "      <th>Contract_x0_One year</th>\n",
       "      <th>Contract_x0_Two year</th>\n",
       "      <th>PaperlessBilling</th>\n",
       "      <th>PaymentMethod_x0_Credit card (automatic)</th>\n",
       "      <th>PaymentMethod_x0_Electronic check</th>\n",
       "      <th>PaymentMethod_x0_Mailed check</th>\n",
       "      <th>TotalCharges</th>\n",
       "      <th>TotalCharges_is_na</th>\n",
       "    </tr>\n",
       "  </thead>\n",
       "  <tbody>\n",
       "    <tr>\n",
       "      <th>0</th>\n",
       "      <td>-0.439916</td>\n",
       "      <td>-1.277445</td>\n",
       "      <td>-1.160323</td>\n",
       "      <td>-1.009559</td>\n",
       "      <td>1.034530</td>\n",
       "      <td>-0.654012</td>\n",
       "      <td>-3.054010</td>\n",
       "      <td>3.054010</td>\n",
       "      <td>-0.854176</td>\n",
       "      <td>-0.88566</td>\n",
       "      <td>...</td>\n",
       "      <td>-0.525927</td>\n",
       "      <td>-0.79607</td>\n",
       "      <td>-0.514249</td>\n",
       "      <td>-0.562975</td>\n",
       "      <td>0.829798</td>\n",
       "      <td>-0.525047</td>\n",
       "      <td>1.406418</td>\n",
       "      <td>-0.544807</td>\n",
       "      <td>-0.994971</td>\n",
       "      <td>-0.039551</td>\n",
       "    </tr>\n",
       "    <tr>\n",
       "      <th>1</th>\n",
       "      <td>-0.439916</td>\n",
       "      <td>0.066327</td>\n",
       "      <td>-0.259629</td>\n",
       "      <td>0.990532</td>\n",
       "      <td>-0.966622</td>\n",
       "      <td>-0.654012</td>\n",
       "      <td>0.327438</td>\n",
       "      <td>-0.327438</td>\n",
       "      <td>-0.854176</td>\n",
       "      <td>-0.88566</td>\n",
       "      <td>...</td>\n",
       "      <td>-0.525927</td>\n",
       "      <td>-0.79607</td>\n",
       "      <td>1.944582</td>\n",
       "      <td>-0.562975</td>\n",
       "      <td>-1.205113</td>\n",
       "      <td>-0.525047</td>\n",
       "      <td>-0.711026</td>\n",
       "      <td>1.835513</td>\n",
       "      <td>-0.173876</td>\n",
       "      <td>-0.039551</td>\n",
       "    </tr>\n",
       "  </tbody>\n",
       "</table>\n",
       "<p>2 rows × 31 columns</p>\n",
       "</div>"
      ],
      "text/plain": [
       "   SeniorCitizen    tenure  MonthlyCharges    gender   Partner  Dependents  \\\n",
       "0      -0.439916 -1.277445       -1.160323 -1.009559  1.034530   -0.654012   \n",
       "1      -0.439916  0.066327       -0.259629  0.990532 -0.966622   -0.654012   \n",
       "\n",
       "   PhoneService  MultipleLines_x0_No phone service  MultipleLines_x0_Yes  \\\n",
       "0     -3.054010                           3.054010             -0.854176   \n",
       "1      0.327438                          -0.327438             -0.854176   \n",
       "\n",
       "   InternetService_x0_Fiber optic  ...  \\\n",
       "0                        -0.88566  ...   \n",
       "1                        -0.88566  ...   \n",
       "\n",
       "   StreamingMovies_x0_No internet service  StreamingMovies_x0_Yes  \\\n",
       "0                               -0.525927                -0.79607   \n",
       "1                               -0.525927                -0.79607   \n",
       "\n",
       "   Contract_x0_One year  Contract_x0_Two year  PaperlessBilling  \\\n",
       "0             -0.514249             -0.562975          0.829798   \n",
       "1              1.944582             -0.562975         -1.205113   \n",
       "\n",
       "   PaymentMethod_x0_Credit card (automatic)  \\\n",
       "0                                 -0.525047   \n",
       "1                                 -0.525047   \n",
       "\n",
       "   PaymentMethod_x0_Electronic check  PaymentMethod_x0_Mailed check  \\\n",
       "0                           1.406418                      -0.544807   \n",
       "1                          -0.711026                       1.835513   \n",
       "\n",
       "   TotalCharges  TotalCharges_is_na  \n",
       "0     -0.994971           -0.039551  \n",
       "1     -0.173876           -0.039551  \n",
       "\n",
       "[2 rows x 31 columns]"
      ]
     },
     "execution_count": 12,
     "metadata": {},
     "output_type": "execute_result"
    }
   ],
   "source": [
    "X_scaled_df[:2]\n",
    "\n",
    "# \tSeniorCitizen\ttenure\tMonthlyCharges\tgender\tPartner\tDependents\tPhoneService\tMultipleLines_x0_No phone service\tMultipleLines_x0_Yes\tInternetService_x0_Fiber optic\t...\tStreamingMovies_x0_No internet service\tStreamingMovies_x0_Yes\tContract_x0_One year\tContract_x0_Two year\tPaperlessBilling\tPaymentMethod_x0_Credit card (automatic)\tPaymentMethod_x0_Electronic check\tPaymentMethod_x0_Mailed check\tTotalCharges\tTotalCharges_is_na\n",
    "# 0\t-0.439916\t-1.277445\t-1.160323\t-1.009559\t1.034530\t-0.654012\t-3.054010\t3.054010\t-0.854176\t-0.88566\t...\t-0.525927\t-0.79607\t-0.514249\t-0.562975\t0.829798\t-0.525047\t1.406418\t-0.544807\t-0.994971\t-0.039551\n",
    "# 1\t-0.439916\t0.066327\t-0.259629\t0.990532\t-0.966622\t-0.654012\t0.327438\t-0.327438\t-0.854176\t-0.88566\t...\t-0.525927\t-0.79607\t1.944582\t-0.562975\t-1.205113\t-0.525047\t-0.711026\t1.835513\t-0.173876\t-0.039551\n",
    "# 2 rows × 31 columns"
   ]
  },
  {
   "cell_type": "markdown",
   "metadata": {},
   "source": [
    "Now let's split the data into training validation and test sets.  We split the training data into training and test datasets.  Now it's your turn to split the test dataset in half into validation and test datasets. \n",
    "\n",
    "> Make sure you stratify the data by the `y_test` data.  Set `random_state = 1`."
   ]
  },
  {
   "cell_type": "code",
   "execution_count": 13,
   "metadata": {},
   "outputs": [],
   "source": [
    "from sklearn.model_selection import train_test_split\n",
    "\n",
    "X_train, X_test, y_train, y_test = train_test_split(X_scaled_df, y, \n",
    "                                                    test_size = .4,\n",
    "                                                    random_state = 1, stratify = y)\n",
    "X_validate, X_test, y_validate, y_test = train_test_split(X_test, y_test, \n",
    "                                                          test_size = .5, \n",
    "                                                          random_state = 1, stratify = y_test)"
   ]
  },
  {
   "cell_type": "code",
   "execution_count": 14,
   "metadata": {},
   "outputs": [
    {
     "data": {
      "text/html": [
       "<div>\n",
       "<style scoped>\n",
       "    .dataframe tbody tr th:only-of-type {\n",
       "        vertical-align: middle;\n",
       "    }\n",
       "\n",
       "    .dataframe tbody tr th {\n",
       "        vertical-align: top;\n",
       "    }\n",
       "\n",
       "    .dataframe thead th {\n",
       "        text-align: right;\n",
       "    }\n",
       "</style>\n",
       "<table border=\"1\" class=\"dataframe\">\n",
       "  <thead>\n",
       "    <tr style=\"text-align: right;\">\n",
       "      <th></th>\n",
       "      <th>SeniorCitizen</th>\n",
       "      <th>tenure</th>\n",
       "      <th>MonthlyCharges</th>\n",
       "      <th>gender</th>\n",
       "      <th>Partner</th>\n",
       "      <th>Dependents</th>\n",
       "      <th>PhoneService</th>\n",
       "      <th>MultipleLines_x0_No phone service</th>\n",
       "      <th>MultipleLines_x0_Yes</th>\n",
       "      <th>InternetService_x0_Fiber optic</th>\n",
       "      <th>...</th>\n",
       "      <th>StreamingMovies_x0_No internet service</th>\n",
       "      <th>StreamingMovies_x0_Yes</th>\n",
       "      <th>Contract_x0_One year</th>\n",
       "      <th>Contract_x0_Two year</th>\n",
       "      <th>PaperlessBilling</th>\n",
       "      <th>PaymentMethod_x0_Credit card (automatic)</th>\n",
       "      <th>PaymentMethod_x0_Electronic check</th>\n",
       "      <th>PaymentMethod_x0_Mailed check</th>\n",
       "      <th>TotalCharges</th>\n",
       "      <th>TotalCharges_is_na</th>\n",
       "    </tr>\n",
       "  </thead>\n",
       "  <tbody>\n",
       "    <tr>\n",
       "      <th>2105</th>\n",
       "      <td>-0.439916</td>\n",
       "      <td>-1.196004</td>\n",
       "      <td>0.348589</td>\n",
       "      <td>-1.009559</td>\n",
       "      <td>-0.966622</td>\n",
       "      <td>-0.654012</td>\n",
       "      <td>0.327438</td>\n",
       "      <td>-0.327438</td>\n",
       "      <td>1.170719</td>\n",
       "      <td>1.129102</td>\n",
       "      <td>...</td>\n",
       "      <td>-0.525927</td>\n",
       "      <td>-0.79607</td>\n",
       "      <td>-0.514249</td>\n",
       "      <td>-0.562975</td>\n",
       "      <td>-1.205113</td>\n",
       "      <td>-0.525047</td>\n",
       "      <td>1.406418</td>\n",
       "      <td>-0.544807</td>\n",
       "      <td>-0.901300</td>\n",
       "      <td>-0.039551</td>\n",
       "    </tr>\n",
       "    <tr>\n",
       "      <th>3336</th>\n",
       "      <td>-0.439916</td>\n",
       "      <td>0.921455</td>\n",
       "      <td>-1.477726</td>\n",
       "      <td>-1.009559</td>\n",
       "      <td>1.034530</td>\n",
       "      <td>1.529024</td>\n",
       "      <td>0.327438</td>\n",
       "      <td>-0.327438</td>\n",
       "      <td>-0.854176</td>\n",
       "      <td>-0.885660</td>\n",
       "      <td>...</td>\n",
       "      <td>1.901403</td>\n",
       "      <td>-0.79607</td>\n",
       "      <td>-0.514249</td>\n",
       "      <td>1.776278</td>\n",
       "      <td>-1.205113</td>\n",
       "      <td>-0.525047</td>\n",
       "      <td>-0.711026</td>\n",
       "      <td>1.835513</td>\n",
       "      <td>-0.531716</td>\n",
       "      <td>-0.039551</td>\n",
       "    </tr>\n",
       "  </tbody>\n",
       "</table>\n",
       "<p>2 rows × 31 columns</p>\n",
       "</div>"
      ],
      "text/plain": [
       "      SeniorCitizen    tenure  MonthlyCharges    gender   Partner  Dependents  \\\n",
       "2105      -0.439916 -1.196004        0.348589 -1.009559 -0.966622   -0.654012   \n",
       "3336      -0.439916  0.921455       -1.477726 -1.009559  1.034530    1.529024   \n",
       "\n",
       "      PhoneService  MultipleLines_x0_No phone service  MultipleLines_x0_Yes  \\\n",
       "2105      0.327438                          -0.327438              1.170719   \n",
       "3336      0.327438                          -0.327438             -0.854176   \n",
       "\n",
       "      InternetService_x0_Fiber optic  ...  \\\n",
       "2105                        1.129102  ...   \n",
       "3336                       -0.885660  ...   \n",
       "\n",
       "      StreamingMovies_x0_No internet service  StreamingMovies_x0_Yes  \\\n",
       "2105                               -0.525927                -0.79607   \n",
       "3336                                1.901403                -0.79607   \n",
       "\n",
       "      Contract_x0_One year  Contract_x0_Two year  PaperlessBilling  \\\n",
       "2105             -0.514249             -0.562975         -1.205113   \n",
       "3336             -0.514249              1.776278         -1.205113   \n",
       "\n",
       "      PaymentMethod_x0_Credit card (automatic)  \\\n",
       "2105                                 -0.525047   \n",
       "3336                                 -0.525047   \n",
       "\n",
       "      PaymentMethod_x0_Electronic check  PaymentMethod_x0_Mailed check  \\\n",
       "2105                           1.406418                      -0.544807   \n",
       "3336                          -0.711026                       1.835513   \n",
       "\n",
       "      TotalCharges  TotalCharges_is_na  \n",
       "2105     -0.901300           -0.039551  \n",
       "3336     -0.531716           -0.039551  \n",
       "\n",
       "[2 rows x 31 columns]"
      ]
     },
     "execution_count": 14,
     "metadata": {},
     "output_type": "execute_result"
    }
   ],
   "source": [
    "X_validate[:2]"
   ]
  },
  {
   "cell_type": "markdown",
   "metadata": {},
   "source": [
    "Now let's fit our logistic regression model, set the solver as `lbfgs` and the `random_state` as 1.  Check the accuracy on the validation set."
   ]
  },
  {
   "cell_type": "code",
   "execution_count": 16,
   "metadata": {},
   "outputs": [
    {
     "data": {
      "text/plain": [
       "0.8034066713981547"
      ]
     },
     "execution_count": 16,
     "metadata": {},
     "output_type": "execute_result"
    }
   ],
   "source": [
    "from sklearn.linear_model import LogisticRegression\n",
    "model = LogisticRegression(solver=\"lbfgs\",\n",
    "                           random_state = 1).fit(X_train, y_train)\n",
    "model.score(X_validate, y_validate)\n",
    "\n",
    "# 0.8034066713981547"
   ]
  },
  {
   "cell_type": "markdown",
   "metadata": {},
   "source": [
    "### Breaking down our error"
   ]
  },
  {
   "cell_type": "markdown",
   "metadata": {},
   "source": [
    "Next let's use the validation data to create a confusion matrix.  Use the `confusion_matrix` function from `sklearn.metrics`.   "
   ]
  },
  {
   "cell_type": "code",
   "execution_count": 17,
   "metadata": {},
   "outputs": [],
   "source": [
    "from sklearn.metrics import confusion_matrix"
   ]
  },
  {
   "cell_type": "code",
   "execution_count": 18,
   "metadata": {},
   "outputs": [],
   "source": [
    "y_pred_val = model.predict(X_validate)"
   ]
  },
  {
   "cell_type": "code",
   "execution_count": 19,
   "metadata": {},
   "outputs": [],
   "source": [
    "mtx = confusion_matrix(y_validate.values, y_pred_val)"
   ]
  },
  {
   "cell_type": "code",
   "execution_count": 20,
   "metadata": {},
   "outputs": [
    {
     "data": {
      "text/html": [
       "<div>\n",
       "<style scoped>\n",
       "    .dataframe tbody tr th:only-of-type {\n",
       "        vertical-align: middle;\n",
       "    }\n",
       "\n",
       "    .dataframe tbody tr th {\n",
       "        vertical-align: top;\n",
       "    }\n",
       "\n",
       "    .dataframe thead th {\n",
       "        text-align: right;\n",
       "    }\n",
       "</style>\n",
       "<table border=\"1\" class=\"dataframe\">\n",
       "  <thead>\n",
       "    <tr style=\"text-align: right;\">\n",
       "      <th></th>\n",
       "      <th>observed +</th>\n",
       "      <th>observed -</th>\n",
       "    </tr>\n",
       "  </thead>\n",
       "  <tbody>\n",
       "    <tr>\n",
       "      <th>predicted +</th>\n",
       "      <td>198</td>\n",
       "      <td>101</td>\n",
       "    </tr>\n",
       "    <tr>\n",
       "      <th>predicted -</th>\n",
       "      <td>176</td>\n",
       "      <td>934</td>\n",
       "    </tr>\n",
       "  </tbody>\n",
       "</table>\n",
       "</div>"
      ],
      "text/plain": [
       "             observed +  observed -\n",
       "predicted +         198         101\n",
       "predicted -         176         934"
      ]
     },
     "execution_count": 20,
     "metadata": {},
     "output_type": "execute_result"
    }
   ],
   "source": [
    "import pandas as pd\n",
    "conf_mtx_df = pd.DataFrame(mtx, index = ['observed -', 'observed +'],\n",
    "                           columns = ['predicted -', 'predicted +'])\n",
    "conf_mtx_df.iloc[::-1, ::-1].T\n",
    "\n",
    "\n",
    "# \tobserved +\tobserved -\n",
    "# predicted +\t198\t101\n",
    "# predicted -\t176\t934"
   ]
  },
  {
   "cell_type": "markdown",
   "metadata": {},
   "source": [
    "Now let's break down the confusion matrix.  From here assign the `true_positive`, `false_positive`, `false_negative`, and `false_positive` below."
   ]
  },
  {
   "cell_type": "code",
   "execution_count": 21,
   "metadata": {},
   "outputs": [],
   "source": [
    "TP = 198\n",
    "TN = 934\n",
    "FP = 101\n",
    "FN = 176"
   ]
  },
  {
   "cell_type": "markdown",
   "metadata": {},
   "source": [
    "Use the four variables declare in the cell above to calculate the accuracy.  It should line up to the score we saw above."
   ]
  },
  {
   "cell_type": "code",
   "execution_count": 23,
   "metadata": {},
   "outputs": [
    {
     "data": {
      "text/plain": [
       "0.8034066713981547"
      ]
     },
     "execution_count": 23,
     "metadata": {},
     "output_type": "execute_result"
    }
   ],
   "source": [
    "accuracy = (TP + TN)/(TP + TN + FP + FN)\n",
    "accuracy\n",
    "# 0.8034066713981547"
   ]
  },
  {
   "cell_type": "markdown",
   "metadata": {},
   "source": [
    "Let's also check that the total number of positive observations and negative observations line up with what we see in our confusion matrix.  Use the variables to make the correct calculations."
   ]
  },
  {
   "cell_type": "code",
   "execution_count": 24,
   "metadata": {},
   "outputs": [
    {
     "data": {
      "text/plain": [
       "374"
      ]
     },
     "execution_count": 24,
     "metadata": {},
     "output_type": "execute_result"
    }
   ],
   "source": [
    "total_positives = TP + FN\n",
    "\n",
    "total_positives"
   ]
  },
  {
   "cell_type": "code",
   "execution_count": 25,
   "metadata": {},
   "outputs": [
    {
     "data": {
      "text/plain": [
       "374.0"
      ]
     },
     "execution_count": 25,
     "metadata": {},
     "output_type": "execute_result"
    }
   ],
   "source": [
    "y_validate.sum()"
   ]
  },
  {
   "cell_type": "code",
   "execution_count": 26,
   "metadata": {},
   "outputs": [
    {
     "data": {
      "text/plain": [
       "1035"
      ]
     },
     "execution_count": 26,
     "metadata": {},
     "output_type": "execute_result"
    }
   ],
   "source": [
    "total_negatives = TN + FP \n",
    "total_negatives"
   ]
  },
  {
   "cell_type": "code",
   "execution_count": 27,
   "metadata": {},
   "outputs": [
    {
     "data": {
      "text/plain": [
       "1035"
      ]
     },
     "execution_count": 27,
     "metadata": {},
     "output_type": "execute_result"
    }
   ],
   "source": [
    "(y_validate == 0).sum()"
   ]
  },
  {
   "cell_type": "markdown",
   "metadata": {},
   "source": [
    "### Working through Precision and Recall"
   ]
  },
  {
   "cell_type": "markdown",
   "metadata": {},
   "source": [
    "Now let's calculate the precision and recall.  \n",
    "\n",
    "1. Precision \n",
    "\n",
    "Let's start with precision.  Remember that precision is **the percentage our classifier predicts** is positive that is actually positive.  "
   ]
  },
  {
   "cell_type": "markdown",
   "metadata": {},
   "source": [
    "> Use the variables above to calculate the precision."
   ]
  },
  {
   "cell_type": "code",
   "execution_count": 29,
   "metadata": {},
   "outputs": [
    {
     "data": {
      "text/plain": [
       "0.6622073578595318"
      ]
     },
     "execution_count": 29,
     "metadata": {},
     "output_type": "execute_result"
    }
   ],
   "source": [
    "precision = TP/(TP + FP)\n",
    "precision\n",
    "# 0.6622073578595318"
   ]
  },
  {
   "cell_type": "markdown",
   "metadata": {},
   "source": [
    "> Then import `precision_score` from `sklearn.metrics` and check that you get the same number."
   ]
  },
  {
   "cell_type": "code",
   "execution_count": 30,
   "metadata": {},
   "outputs": [],
   "source": [
    "from sklearn.metrics import precision_score"
   ]
  },
  {
   "cell_type": "code",
   "execution_count": 32,
   "metadata": {},
   "outputs": [
    {
     "data": {
      "text/plain": [
       "0.6622073578595318"
      ]
     },
     "execution_count": 32,
     "metadata": {},
     "output_type": "execute_result"
    }
   ],
   "source": [
    "precision_score(y_validate, y_pred_val)\n",
    "# 0.6622073578595318"
   ]
  },
  {
   "cell_type": "markdown",
   "metadata": {},
   "source": [
    "So we can see that roughly one third of what our classifier detects is a false positive.   In other words, one third of those who our classifier predicts will churn, do not."
   ]
  },
  {
   "cell_type": "markdown",
   "metadata": {},
   "source": [
    "2. Recall\n",
    "\n",
    "Next, let's move to recall.  Remember that recall is the **percentage of observed positive events** that were classified as positive. "
   ]
  },
  {
   "cell_type": "code",
   "execution_count": 34,
   "metadata": {},
   "outputs": [
    {
     "data": {
      "text/plain": [
       "0.5294117647058824"
      ]
     },
     "execution_count": 34,
     "metadata": {},
     "output_type": "execute_result"
    }
   ],
   "source": [
    "recall = TP/(TP + FN)\n",
    "recall\n",
    "\n",
    "# 0.5294117647058824"
   ]
  },
  {
   "cell_type": "markdown",
   "metadata": {},
   "source": [
    "Now, we import the `recall_score` from sklearn and check that we get a matching recall."
   ]
  },
  {
   "cell_type": "code",
   "execution_count": 35,
   "metadata": {},
   "outputs": [],
   "source": [
    "from sklearn.metrics import recall_score"
   ]
  },
  {
   "cell_type": "code",
   "execution_count": 37,
   "metadata": {},
   "outputs": [
    {
     "data": {
      "text/plain": [
       "0.5294117647058824"
      ]
     },
     "execution_count": 37,
     "metadata": {},
     "output_type": "execute_result"
    }
   ],
   "source": [
    "recall_score(y_validate, y_pred_val)"
   ]
  },
  {
   "cell_type": "markdown",
   "metadata": {},
   "source": [
    "So we can see that many churned customers are not captured by our classifier (.55 recall score), and that our model performs a little better by balancing our data."
   ]
  },
  {
   "cell_type": "markdown",
   "metadata": {},
   "source": [
    "### Balancing Data "
   ]
  },
  {
   "cell_type": "markdown",
   "metadata": {},
   "source": [
    "Let's see if we can perform a little better by balancing our data. Currently, we have an imbalanced dataset. "
   ]
  },
  {
   "cell_type": "code",
   "execution_count": 38,
   "metadata": {},
   "outputs": [
    {
     "data": {
      "text/plain": [
       "0.26532544378698225"
      ]
     },
     "execution_count": 38,
     "metadata": {},
     "output_type": "execute_result"
    }
   ],
   "source": [
    "y_train.mean()"
   ]
  },
  {
   "cell_type": "markdown",
   "metadata": {},
   "source": [
    "This means that during training, a model will be optimized at performing better on the negative observations than the positive ones, as there are three times as many negative observations.  We can alter this by setting `class_weight` as `balanced` when initializing the LogisticRegression model.  \n",
    "\n",
    "As explained in the documenation:"
   ]
  },
  {
   "cell_type": "markdown",
   "metadata": {},
   "source": [
    "```text \n",
    "The \"balanced\" mode uses the values of y to automatically adjust\n",
    "weights inversely proportional to class frequencies in the input data\n",
    "as ``n_samples / (n_classes * np.bincount(y))``\n",
    "```"
   ]
  },
  {
   "cell_type": "markdown",
   "metadata": {},
   "source": [
    "So the fewer the number of observations, the larger the estimator multiplies the cost associated with that observation."
   ]
  },
  {
   "cell_type": "markdown",
   "metadata": {},
   "source": [
    "> Fit the logistic regression model with the `class_weight = 'balanced'`, and the solver='lbfgs', and a random_state = 1.  Score the `balanced_model` on the validation set."
   ]
  },
  {
   "cell_type": "code",
   "execution_count": 41,
   "metadata": {},
   "outputs": [
    {
     "data": {
      "text/plain": [
       "0.7260468417317246"
      ]
     },
     "execution_count": 41,
     "metadata": {},
     "output_type": "execute_result"
    }
   ],
   "source": [
    "balanced_model = LogisticRegression(solver=\"lbfgs\",\n",
    "                           random_state = 1, class_weight='balanced').fit(X_train, y_train)\n",
    "balanced_model.score(X_validate, y_validate)\n",
    "# 0.7260468417317246"
   ]
  },
  {
   "cell_type": "markdown",
   "metadata": {},
   "source": [
    "> Notice that the score decreases from `0.8062455642299503` previously to `0.7359829666430092`.  This is expected as the accuracy score calculates the total number of observations classified correctly, while our balanced classifier focuses on fitting to the positive events."
   ]
  },
  {
   "cell_type": "markdown",
   "metadata": {},
   "source": [
    "Now let's see how our balanced model changes the way it classifies the positive events.  Begin by creating a confusion matrix for the balanced model."
   ]
  },
  {
   "cell_type": "code",
   "execution_count": 42,
   "metadata": {},
   "outputs": [],
   "source": [
    "y_val_predict_balanced = balanced_model.predict(X_validate)"
   ]
  },
  {
   "cell_type": "code",
   "execution_count": 43,
   "metadata": {},
   "outputs": [],
   "source": [
    "mtx_balanced = confusion_matrix(y_validate.values, y_val_predict_balanced)"
   ]
  },
  {
   "cell_type": "code",
   "execution_count": 44,
   "metadata": {},
   "outputs": [
    {
     "data": {
      "text/html": [
       "<div>\n",
       "<style scoped>\n",
       "    .dataframe tbody tr th:only-of-type {\n",
       "        vertical-align: middle;\n",
       "    }\n",
       "\n",
       "    .dataframe tbody tr th {\n",
       "        vertical-align: top;\n",
       "    }\n",
       "\n",
       "    .dataframe thead th {\n",
       "        text-align: right;\n",
       "    }\n",
       "</style>\n",
       "<table border=\"1\" class=\"dataframe\">\n",
       "  <thead>\n",
       "    <tr style=\"text-align: right;\">\n",
       "      <th></th>\n",
       "      <th>observed +</th>\n",
       "      <th>observed -</th>\n",
       "    </tr>\n",
       "  </thead>\n",
       "  <tbody>\n",
       "    <tr>\n",
       "      <th>predicted +</th>\n",
       "      <td>290</td>\n",
       "      <td>302</td>\n",
       "    </tr>\n",
       "    <tr>\n",
       "      <th>predicted -</th>\n",
       "      <td>84</td>\n",
       "      <td>733</td>\n",
       "    </tr>\n",
       "  </tbody>\n",
       "</table>\n",
       "</div>"
      ],
      "text/plain": [
       "             observed +  observed -\n",
       "predicted +         290         302\n",
       "predicted -          84         733"
      ]
     },
     "execution_count": 44,
     "metadata": {},
     "output_type": "execute_result"
    }
   ],
   "source": [
    "import pandas as pd\n",
    "conf_mtx_df_balanced = pd.DataFrame(mtx_balanced, index = ['observed -', 'observed +'],\n",
    "                           columns = ['predicted -', 'predicted +'])\n",
    "conf_mtx_df_balanced.iloc[::-1, ::-1].T\n",
    "\n",
    "\n",
    "# observed +\tobserved -\n",
    "# predicted +\t290\t302\n",
    "# predicted -\t84\t733"
   ]
  },
  {
   "cell_type": "markdown",
   "metadata": {},
   "source": [
    "Now let's compare this to the original confusion matrix."
   ]
  },
  {
   "cell_type": "code",
   "execution_count": 59,
   "metadata": {},
   "outputs": [
    {
     "data": {
      "text/html": [
       "<div>\n",
       "<style scoped>\n",
       "    .dataframe tbody tr th:only-of-type {\n",
       "        vertical-align: middle;\n",
       "    }\n",
       "\n",
       "    .dataframe tbody tr th {\n",
       "        vertical-align: top;\n",
       "    }\n",
       "\n",
       "    .dataframe thead th {\n",
       "        text-align: right;\n",
       "    }\n",
       "</style>\n",
       "<table border=\"1\" class=\"dataframe\">\n",
       "  <thead>\n",
       "    <tr style=\"text-align: right;\">\n",
       "      <th></th>\n",
       "      <th>observed +</th>\n",
       "      <th>observed -</th>\n",
       "    </tr>\n",
       "  </thead>\n",
       "  <tbody>\n",
       "    <tr>\n",
       "      <th>predicted +</th>\n",
       "      <td>197</td>\n",
       "      <td>96</td>\n",
       "    </tr>\n",
       "    <tr>\n",
       "      <th>predicted -</th>\n",
       "      <td>177</td>\n",
       "      <td>939</td>\n",
       "    </tr>\n",
       "  </tbody>\n",
       "</table>\n",
       "</div>"
      ],
      "text/plain": [
       "             observed +  observed -\n",
       "predicted +         197          96\n",
       "predicted -         177         939"
      ]
     },
     "execution_count": 59,
     "metadata": {},
     "output_type": "execute_result"
    }
   ],
   "source": [
    "conf_mtx_df.iloc[::-1, ::-1].T"
   ]
  },
  {
   "cell_type": "markdown",
   "metadata": {},
   "source": [
    "We can see that using `class_weight` of `balanced`, has our model performed better with predicting true positives, but worse at predicting true negatives."
   ]
  },
  {
   "cell_type": "markdown",
   "metadata": {},
   "source": [
    "Let's take a look at the precision and recall scores."
   ]
  },
  {
   "cell_type": "code",
   "execution_count": 45,
   "metadata": {},
   "outputs": [
    {
     "data": {
      "text/plain": [
       "0.48986486486486486"
      ]
     },
     "execution_count": 45,
     "metadata": {},
     "output_type": "execute_result"
    }
   ],
   "source": [
    "precision_balanced = precision_score(y_validate, y_val_predict_balanced)\n",
    "precision_balanced\n",
    "\n",
    "# 0.48986486486486486"
   ]
  },
  {
   "cell_type": "code",
   "execution_count": 46,
   "metadata": {},
   "outputs": [
    {
     "data": {
      "text/plain": [
       "0.7754010695187166"
      ]
     },
     "execution_count": 46,
     "metadata": {},
     "output_type": "execute_result"
    }
   ],
   "source": [
    "recall_balanced = recall_score(y_validate, y_val_predict_balanced)\n",
    "\n",
    "recall_balanced\n",
    "\n",
    "# 0.7754010695187166"
   ]
  },
  {
   "cell_type": "code",
   "execution_count": null,
   "metadata": {},
   "outputs": [],
   "source": [
    "# previous precision score 0.6622\n",
    "# previous recall score # 0.5294117647058824"
   ]
  },
  {
   "cell_type": "markdown",
   "metadata": {},
   "source": [
    "We can see that by changing to balanced, the the recall of the classifier greatly increased, but the precision score decreased."
   ]
  },
  {
   "cell_type": "markdown",
   "metadata": {},
   "source": [
    "### Using the F1 score"
   ]
  },
  {
   "cell_type": "markdown",
   "metadata": {},
   "source": [
    "Finally, we can use the f1 score to see a harmonic mean of the precision and recall scores.  We'll use this metric to compare our two models."
   ]
  },
  {
   "cell_type": "code",
   "execution_count": 47,
   "metadata": {},
   "outputs": [],
   "source": [
    "from sklearn.metrics import f1_score"
   ]
  },
  {
   "cell_type": "code",
   "execution_count": 48,
   "metadata": {},
   "outputs": [
    {
     "data": {
      "text/plain": [
       "0.5884101040118871"
      ]
     },
     "execution_count": 48,
     "metadata": {},
     "output_type": "execute_result"
    }
   ],
   "source": [
    "f1_score(y_validate, model.predict(X_validate))\n",
    "# 0.5884101040118871"
   ]
  },
  {
   "cell_type": "code",
   "execution_count": 51,
   "metadata": {},
   "outputs": [
    {
     "data": {
      "text/plain": [
       "0.6004140786749482"
      ]
     },
     "execution_count": 51,
     "metadata": {},
     "output_type": "execute_result"
    }
   ],
   "source": [
    "f1_score(y_validate, balanced_model.predict(X_validate))\n",
    "# 0.6004140786749482"
   ]
  },
  {
   "cell_type": "markdown",
   "metadata": {},
   "source": [
    "We can see that averaging both of these scores, the balanced model performed better."
   ]
  },
  {
   "cell_type": "markdown",
   "metadata": {},
   "source": [
    "### Summary"
   ]
  },
  {
   "cell_type": "markdown",
   "metadata": {},
   "source": [
    "In this lesson, we practiced calculating the precision and recall scores, and compared logistic regression models where the data was balanced, and where the sample weight was used.\n",
    "\n",
    "We applied the formulas of:\n",
    "\n",
    "* $precision = \\frac{TP}{TP + FP}$\n",
    "* $recall = \\frac{TP}{TP + FN}$"
   ]
  },
  {
   "cell_type": "markdown",
   "metadata": {},
   "source": [
    "We also computed the accurracy score of the total correctly classified (TP + TN) divided by the all of the observations (TP + FN + FP + FN)."
   ]
  },
  {
   "cell_type": "markdown",
   "metadata": {},
   "source": [
    "### Resources"
   ]
  },
  {
   "cell_type": "markdown",
   "metadata": {},
   "source": [
    "[Class weight](https://stackoverflow.com/questions/30972029/how-does-the-class-weight-parameter-in-scikit-learn-work)"
   ]
  }
 ],
 "metadata": {
  "kernelspec": {
   "display_name": "Python 3",
   "language": "python",
   "name": "python3"
  },
  "language_info": {
   "codemirror_mode": {
    "name": "ipython",
    "version": 3
   },
   "file_extension": ".py",
   "mimetype": "text/x-python",
   "name": "python",
   "nbconvert_exporter": "python",
   "pygments_lexer": "ipython3",
   "version": "3.7.4"
  }
 },
 "nbformat": 4,
 "nbformat_minor": 4
}
