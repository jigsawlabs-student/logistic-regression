{
 "cells": [
  {
   "cell_type": "markdown",
   "metadata": {},
   "source": [
    "# Independence"
   ]
  },
  {
   "cell_type": "markdown",
   "metadata": {},
   "source": [
    "### Introduction"
   ]
  },
  {
   "cell_type": "markdown",
   "metadata": {},
   "source": [
    "In our previous lesson, we saw the general rule for calculating the probability that two events will occur."
   ]
  },
  {
   "cell_type": "markdown",
   "metadata": {},
   "source": [
    "$P(EF) = P(E)*P(F|E)$"
   ]
  },
  {
   "cell_type": "markdown",
   "metadata": {},
   "source": [
    "As we'll see in this lesson we'll learn about events that are independent.  As we'll see, events are independent when the occurrence or non-occurrence of one event, does not change the probability of the second event occurring.  Let's get started."
   ]
  },
  {
   "cell_type": "markdown",
   "metadata": {},
   "source": [
    "### Defining Independence"
   ]
  },
  {
   "cell_type": "markdown",
   "metadata": {},
   "source": [
    "Let's start with the statistical definition of independence.  We say that two events, E and F are independent if:\n",
    "\n",
    "> $P(EF) = P(E)*P(F)$"
   ]
  },
  {
   "cell_type": "markdown",
   "metadata": {},
   "source": [
    "As we'll see this is the definition that we should lean on when our intuition fails us.  Let's explore this definition by moving through some examples."
   ]
  },
  {
   "cell_type": "markdown",
   "metadata": {},
   "source": [
    "1. Independent Events"
   ]
  },
  {
   "cell_type": "markdown",
   "metadata": {},
   "source": [
    "Let's return to our idea of rolling two dice and define a couple of events:\n",
    "\n",
    "* let event A be $D_1  = 2$\n",
    "* let event B be $D_2  = 4$"
   ]
  },
  {
   "cell_type": "markdown",
   "metadata": {},
   "source": [
    "Now let's use our definition of independence to see if the events are independent. \n",
    "\n",
    "* $P(A) = \\frac{1}{6}$\n",
    "* $P(B) = \\frac{1}{6}$\n",
    "* $P(AB) = P((2, 4)) = {1}{36}$"
   ]
  },
  {
   "cell_type": "markdown",
   "metadata": {},
   "source": [
    "So applying our definition of independence as P(AB) = P(A)P(B), we see that $\\frac{1}{36} = \\frac{1}{6} *\\frac{1}{6}$."
   ]
  },
  {
   "cell_type": "markdown",
   "metadata": {},
   "source": [
    "2. Non-independent events"
   ]
  },
  {
   "cell_type": "markdown",
   "metadata": {},
   "source": [
    "Now let's see a scenario where we have non-independent events."
   ]
  },
  {
   "cell_type": "markdown",
   "metadata": {},
   "source": [
    "* $E$ is event where $D_1 = 1$\n",
    "* $F$ is event where $D_1 + D_2  = 5$, $\\{(1, 4), (2, 3), (3, 2), (4, 1)\\}$"
   ]
  },
  {
   "cell_type": "markdown",
   "metadata": {},
   "source": [
    "* $P(E) = \\frac{1}{6}$\n",
    "* $P(F) = \\frac{4}{36} = \\frac{1}{9}$\n",
    "* $P(EF) = \\frac{1}{36}$"
   ]
  },
  {
   "cell_type": "markdown",
   "metadata": {},
   "source": [
    "### Assuming Independence"
   ]
  },
  {
   "cell_type": "markdown",
   "metadata": {},
   "source": [
    "So we have just seen examples, where we are asked to determine whether independence exists.  But sometimes, we assume that independence does exist and then calculate the implications.  For example, let's say we know that rolls of a dice are independent, so that the number that we roll is independent of any previous rolls of the dice.  Now we're asked to calculate the probability that we roll three sixes in a row."
   ]
  },
  {
   "cell_type": "markdown",
   "metadata": {},
   "source": [
    "Well this is just:\n",
    "\n",
    "* A is $D_1 = 6$\n",
    "* B is $D_2 = 6$\n",
    "* C is $D_3 = 6$"
   ]
  },
  {
   "cell_type": "markdown",
   "metadata": {},
   "source": [
    "$P(ABC) = P(A)*P(B)*P(C) = \\frac{1}{6}*\\frac{1}{6}*\\frac{1}{6} = \\frac{1}{216}$"
   ]
  },
  {
   "cell_type": "markdown",
   "metadata": {},
   "source": [
    "Now let's calculate the probability that we roll the sequence of $D_1 = 1$,$ D_2 = 2$, and $D_3 =  3$.  This is also $\\frac{1}{216}$."
   ]
  },
  {
   "cell_type": "markdown",
   "metadata": {},
   "source": [
    "This may seem counterintuitive.  But remember we were asked to calculate the probability of rolling $\\{1, 2, 3\\}$, precisely in that order.  If we were asked to calculate the probability of rolling any sequence of 1, 2, and 3.  Then our probability would increase.  This is because we would add: \n",
    "> $P(1, 2, 3) + P(1, 3, 2) + P(2, 3, 1) + P(2, 1, 3) + P(3, 1, 2) + P(3, 2, 1) = \\frac{6}{216}$ ."
   ]
  }
 ],
 "metadata": {
  "kernelspec": {
   "display_name": "Python 3",
   "language": "python",
   "name": "python3"
  },
  "language_info": {
   "codemirror_mode": {
    "name": "ipython",
    "version": 3
   },
   "file_extension": ".py",
   "mimetype": "text/x-python",
   "name": "python",
   "nbconvert_exporter": "python",
   "pygments_lexer": "ipython3",
   "version": "3.7.4"
  }
 },
 "nbformat": 4,
 "nbformat_minor": 4
}
