{
 "cells": [
  {
   "cell_type": "markdown",
   "metadata": {},
   "source": [
    "ml ai notes"
   ]
  },
  {
   "cell_type": "markdown",
   "metadata": {},
   "source": [
    "* Accuracy - downside is accounts for false positives and false negatives equally"
   ]
  },
  {
   "cell_type": "markdown",
   "metadata": {},
   "source": [
    "* Imbalanced dataset - \n",
    "    * Only 1% of people signup \n",
    "    * Another way of thinking about it is that we don't really care about the true negative rate.  Or the false positive rate."
   ]
  },
  {
   "cell_type": "markdown",
   "metadata": {},
   "source": [
    "<img src=\"./ml-conf.png\" width=\"40%\">"
   ]
  },
  {
   "cell_type": "markdown",
   "metadata": {},
   "source": [
    "* Notice that neither precision nor recall cares about your true negatives (it seems too easy)\n"
   ]
  },
  {
   "cell_type": "markdown",
   "metadata": {},
   "source": [
    "* When we are hunting for anomalies, we care about recall"
   ]
  },
  {
   "cell_type": "markdown",
   "metadata": {},
   "source": [
    "F1 = 2pr/ p + r"
   ]
  },
  {
   "cell_type": "markdown",
   "metadata": {},
   "source": [
    "Tries to capture \n",
    "\n",
    "* False positives are interesting because maybe your model is correct and not your labels\n",
    "    * So maybe the items really are positive\n",
    "* False negatives\n",
    "    * Also interesting "
   ]
  },
  {
   "cell_type": "markdown",
   "metadata": {},
   "source": [
    "Note that precision and recall, are metrics for the hard labels.\n",
    "\n",
    "But when we care about the soft labels, then ROC AUC is more important.\n",
    "    * "
   ]
  },
  {
   "cell_type": "code",
   "execution_count": null,
   "metadata": {},
   "outputs": [],
   "source": []
  }
 ],
 "metadata": {
  "kernelspec": {
   "display_name": "Python 3",
   "language": "python",
   "name": "python3"
  },
  "language_info": {
   "codemirror_mode": {
    "name": "ipython",
    "version": 3
   },
   "file_extension": ".py",
   "mimetype": "text/x-python",
   "name": "python",
   "nbconvert_exporter": "python",
   "pygments_lexer": "ipython3",
   "version": "3.7.4"
  }
 },
 "nbformat": 4,
 "nbformat_minor": 4
}
